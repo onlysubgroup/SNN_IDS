{
  "nbformat": 4,
  "nbformat_minor": 0,
  "metadata": {
    "colab": {
      "name": "NF_UQ_NIDS_ExtraTree.ipynb",
      "provenance": [],
      "collapsed_sections": [],
      "authorship_tag": "ABX9TyOdF5wLbabfRzMCifQZIg+f",
      "include_colab_link": true
    },
    "kernelspec": {
      "name": "python3",
      "display_name": "Python 3"
    },
    "language_info": {
      "name": "python"
    }
  },
  "cells": [
    {
      "cell_type": "markdown",
      "metadata": {
        "id": "view-in-github",
        "colab_type": "text"
      },
      "source": [
        "<a href=\"https://colab.research.google.com/github/onlysubgroup/SNN_IDS/blob/main/NF_UQ_NIDS_ExtraTree.ipynb\" target=\"_parent\"><img src=\"https://colab.research.google.com/assets/colab-badge.svg\" alt=\"Open In Colab\"/></a>"
      ]
    },
    {
      "cell_type": "markdown",
      "source": [
        "Coresponding to the paper \"NetFlow Datasets for Machine Learning-based Network Intrusion Detection Systems\" (https://arxiv.org/abs/2011.09144), this colab aims at reproducing the results for the NF-UQ-NIDS dataset summarized in table 8 of the paper. "
      ],
      "metadata": {
        "id": "QPucXxXxl9Lq"
      }
    },
    {
      "cell_type": "code",
      "execution_count": 13,
      "metadata": {
        "id": "vBfgk5X6l0ly"
      },
      "outputs": [],
      "source": [
        "import pandas as pd\n",
        "#import the dataset with pandas\n",
        "url = \"https://cloudstor.aarnet.edu.au/plus/s/N0JTc8JFNtZtUE4/download?path=%2F&files=NF-UQ-NIDS.csv\"\n",
        "df = pd.read_csv(url)\n"
      ]
    },
    {
      "cell_type": "code",
      "source": [
        "# just like in the paper IP Adreses and Ports are droped to avoid overfitting\n",
        "# Attack type label is also droped as this is only a binary classification algorithm\n",
        "df = df.drop(['IPV4_SRC_ADDR', 'IPV4_DST_ADDR', 'L4_SRC_PORT', 'L4_DST_PORT',  'Attack', 'Dataset'], axis=1)\n",
        "df.head()\n"
      ],
      "metadata": {
        "colab": {
          "base_uri": "https://localhost:8080/",
          "height": 206
        },
        "id": "JKyQxVMExp9r",
        "outputId": "941a532e-12e3-4143-c0e1-341862c38cc7"
      },
      "execution_count": 16,
      "outputs": [
        {
          "output_type": "execute_result",
          "data": {
            "text/plain": [
              "   PROTOCOL  L7_PROTO  IN_BYTES  OUT_BYTES  IN_PKTS  OUT_PKTS  TCP_FLAGS  \\\n",
              "0         6       0.0      9672        416       11         8         25   \n",
              "1         6       0.0      1776        104        6         2         25   \n",
              "2         6       1.0      1842       1236       26        22         25   \n",
              "3         6       0.0       528       8824       10        12         27   \n",
              "4         6       1.0      1786       2340       32        34         25   \n",
              "\n",
              "   FLOW_DURATION_MILLISECONDS  Label  \n",
              "0                          15      0  \n",
              "1                           0      0  \n",
              "2                        1111      0  \n",
              "3                         124      0  \n",
              "4                        1459      0  "
            ],
            "text/html": [
              "\n",
              "  <div id=\"df-92ad3596-f39c-434f-8760-2aa58a8afff2\">\n",
              "    <div class=\"colab-df-container\">\n",
              "      <div>\n",
              "<style scoped>\n",
              "    .dataframe tbody tr th:only-of-type {\n",
              "        vertical-align: middle;\n",
              "    }\n",
              "\n",
              "    .dataframe tbody tr th {\n",
              "        vertical-align: top;\n",
              "    }\n",
              "\n",
              "    .dataframe thead th {\n",
              "        text-align: right;\n",
              "    }\n",
              "</style>\n",
              "<table border=\"1\" class=\"dataframe\">\n",
              "  <thead>\n",
              "    <tr style=\"text-align: right;\">\n",
              "      <th></th>\n",
              "      <th>PROTOCOL</th>\n",
              "      <th>L7_PROTO</th>\n",
              "      <th>IN_BYTES</th>\n",
              "      <th>OUT_BYTES</th>\n",
              "      <th>IN_PKTS</th>\n",
              "      <th>OUT_PKTS</th>\n",
              "      <th>TCP_FLAGS</th>\n",
              "      <th>FLOW_DURATION_MILLISECONDS</th>\n",
              "      <th>Label</th>\n",
              "    </tr>\n",
              "  </thead>\n",
              "  <tbody>\n",
              "    <tr>\n",
              "      <th>0</th>\n",
              "      <td>6</td>\n",
              "      <td>0.0</td>\n",
              "      <td>9672</td>\n",
              "      <td>416</td>\n",
              "      <td>11</td>\n",
              "      <td>8</td>\n",
              "      <td>25</td>\n",
              "      <td>15</td>\n",
              "      <td>0</td>\n",
              "    </tr>\n",
              "    <tr>\n",
              "      <th>1</th>\n",
              "      <td>6</td>\n",
              "      <td>0.0</td>\n",
              "      <td>1776</td>\n",
              "      <td>104</td>\n",
              "      <td>6</td>\n",
              "      <td>2</td>\n",
              "      <td>25</td>\n",
              "      <td>0</td>\n",
              "      <td>0</td>\n",
              "    </tr>\n",
              "    <tr>\n",
              "      <th>2</th>\n",
              "      <td>6</td>\n",
              "      <td>1.0</td>\n",
              "      <td>1842</td>\n",
              "      <td>1236</td>\n",
              "      <td>26</td>\n",
              "      <td>22</td>\n",
              "      <td>25</td>\n",
              "      <td>1111</td>\n",
              "      <td>0</td>\n",
              "    </tr>\n",
              "    <tr>\n",
              "      <th>3</th>\n",
              "      <td>6</td>\n",
              "      <td>0.0</td>\n",
              "      <td>528</td>\n",
              "      <td>8824</td>\n",
              "      <td>10</td>\n",
              "      <td>12</td>\n",
              "      <td>27</td>\n",
              "      <td>124</td>\n",
              "      <td>0</td>\n",
              "    </tr>\n",
              "    <tr>\n",
              "      <th>4</th>\n",
              "      <td>6</td>\n",
              "      <td>1.0</td>\n",
              "      <td>1786</td>\n",
              "      <td>2340</td>\n",
              "      <td>32</td>\n",
              "      <td>34</td>\n",
              "      <td>25</td>\n",
              "      <td>1459</td>\n",
              "      <td>0</td>\n",
              "    </tr>\n",
              "  </tbody>\n",
              "</table>\n",
              "</div>\n",
              "      <button class=\"colab-df-convert\" onclick=\"convertToInteractive('df-92ad3596-f39c-434f-8760-2aa58a8afff2')\"\n",
              "              title=\"Convert this dataframe to an interactive table.\"\n",
              "              style=\"display:none;\">\n",
              "        \n",
              "  <svg xmlns=\"http://www.w3.org/2000/svg\" height=\"24px\"viewBox=\"0 0 24 24\"\n",
              "       width=\"24px\">\n",
              "    <path d=\"M0 0h24v24H0V0z\" fill=\"none\"/>\n",
              "    <path d=\"M18.56 5.44l.94 2.06.94-2.06 2.06-.94-2.06-.94-.94-2.06-.94 2.06-2.06.94zm-11 1L8.5 8.5l.94-2.06 2.06-.94-2.06-.94L8.5 2.5l-.94 2.06-2.06.94zm10 10l.94 2.06.94-2.06 2.06-.94-2.06-.94-.94-2.06-.94 2.06-2.06.94z\"/><path d=\"M17.41 7.96l-1.37-1.37c-.4-.4-.92-.59-1.43-.59-.52 0-1.04.2-1.43.59L10.3 9.45l-7.72 7.72c-.78.78-.78 2.05 0 2.83L4 21.41c.39.39.9.59 1.41.59.51 0 1.02-.2 1.41-.59l7.78-7.78 2.81-2.81c.8-.78.8-2.07 0-2.86zM5.41 20L4 18.59l7.72-7.72 1.47 1.35L5.41 20z\"/>\n",
              "  </svg>\n",
              "      </button>\n",
              "      \n",
              "  <style>\n",
              "    .colab-df-container {\n",
              "      display:flex;\n",
              "      flex-wrap:wrap;\n",
              "      gap: 12px;\n",
              "    }\n",
              "\n",
              "    .colab-df-convert {\n",
              "      background-color: #E8F0FE;\n",
              "      border: none;\n",
              "      border-radius: 50%;\n",
              "      cursor: pointer;\n",
              "      display: none;\n",
              "      fill: #1967D2;\n",
              "      height: 32px;\n",
              "      padding: 0 0 0 0;\n",
              "      width: 32px;\n",
              "    }\n",
              "\n",
              "    .colab-df-convert:hover {\n",
              "      background-color: #E2EBFA;\n",
              "      box-shadow: 0px 1px 2px rgba(60, 64, 67, 0.3), 0px 1px 3px 1px rgba(60, 64, 67, 0.15);\n",
              "      fill: #174EA6;\n",
              "    }\n",
              "\n",
              "    [theme=dark] .colab-df-convert {\n",
              "      background-color: #3B4455;\n",
              "      fill: #D2E3FC;\n",
              "    }\n",
              "\n",
              "    [theme=dark] .colab-df-convert:hover {\n",
              "      background-color: #434B5C;\n",
              "      box-shadow: 0px 1px 3px 1px rgba(0, 0, 0, 0.15);\n",
              "      filter: drop-shadow(0px 1px 2px rgba(0, 0, 0, 0.3));\n",
              "      fill: #FFFFFF;\n",
              "    }\n",
              "  </style>\n",
              "\n",
              "      <script>\n",
              "        const buttonEl =\n",
              "          document.querySelector('#df-92ad3596-f39c-434f-8760-2aa58a8afff2 button.colab-df-convert');\n",
              "        buttonEl.style.display =\n",
              "          google.colab.kernel.accessAllowed ? 'block' : 'none';\n",
              "\n",
              "        async function convertToInteractive(key) {\n",
              "          const element = document.querySelector('#df-92ad3596-f39c-434f-8760-2aa58a8afff2');\n",
              "          const dataTable =\n",
              "            await google.colab.kernel.invokeFunction('convertToInteractive',\n",
              "                                                     [key], {});\n",
              "          if (!dataTable) return;\n",
              "\n",
              "          const docLinkHtml = 'Like what you see? Visit the ' +\n",
              "            '<a target=\"_blank\" href=https://colab.research.google.com/notebooks/data_table.ipynb>data table notebook</a>'\n",
              "            + ' to learn more about interactive tables.';\n",
              "          element.innerHTML = '';\n",
              "          dataTable['output_type'] = 'display_data';\n",
              "          await google.colab.output.renderOutput(dataTable, element);\n",
              "          const docLink = document.createElement('div');\n",
              "          docLink.innerHTML = docLinkHtml;\n",
              "          element.appendChild(docLink);\n",
              "        }\n",
              "      </script>\n",
              "    </div>\n",
              "  </div>\n",
              "  "
            ]
          },
          "metadata": {},
          "execution_count": 16
        }
      ]
    },
    {
      "cell_type": "code",
      "source": [
        "from google.colab import drive\n",
        "drive.mount('/content/gdrive')"
      ],
      "metadata": {
        "colab": {
          "base_uri": "https://localhost:8080/"
        },
        "id": "_VelWzd1DDDe",
        "outputId": "fca91547-f1b5-49b5-ce89-fb749a5fc061"
      },
      "execution_count": 40,
      "outputs": [
        {
          "output_type": "stream",
          "name": "stdout",
          "text": [
            "Mounted at /content/gdrive\n"
          ]
        }
      ]
    },
    {
      "cell_type": "code",
      "source": [
        "# as a proof of concept just picking random samples for training and test\n",
        "train_sample = df.sample(n=1111)\n",
        "train_sample.to_hdf('gdrive/MyDrive/NF_UQ_NIDS_train.h5', key='train', mode='w') \n",
        "test_sample = df.sample(n=111)\n",
        "test_sample.to_hdf('gdrive/MyDrive/NF_UQ_NIDS_test.h5', key='test', mode='w') "
      ],
      "metadata": {
        "id": "M4ePpwvB8bVM"
      },
      "execution_count": 41,
      "outputs": []
    },
    {
      "cell_type": "code",
      "source": [
        "!pip install --quiet tonic"
      ],
      "metadata": {
        "colab": {
          "base_uri": "https://localhost:8080/"
        },
        "id": "1q3xpEvKBbxV",
        "outputId": "9713f72f-73f4-4e66-ef98-33f2b7c9a359"
      },
      "execution_count": 33,
      "outputs": [
        {
          "output_type": "stream",
          "name": "stdout",
          "text": [
            "\u001b[K     |████████████████████████████████| 88 kB 2.8 MB/s \n",
            "\u001b[K     |████████████████████████████████| 112 kB 20.4 MB/s \n",
            "\u001b[?25h  Building wheel for importRosbag (setup.py) ... \u001b[?25l\u001b[?25hdone\n"
          ]
        }
      ]
    },
    {
      "cell_type": "code",
      "source": [
        "# from https://tonic.readthedocs.io/en/latest/tutorials/wrapping_own_data.html\n",
        "from tonic import Dataset, transforms\n",
        "import pandas as pd\n",
        "class NF_UQ_NIDS(Dataset):\n",
        "    def __init__(\n",
        "        self,\n",
        "        train=True,\n",
        "        transform=None,\n",
        "        target_transform=None,\n",
        "        targets=None,\n",
        "        data=None,\n",
        "    ):\n",
        "        super(NF_UQ_NIDS, self).__init__(\n",
        "            transform=transform, target_transform=target_transform\n",
        "        )\n",
        "        self.train = train\n",
        "\n",
        "        # url = \"https://cloudstor.aarnet.edu.au/plus/s/N0JTc8JFNtZtUE4/download?path=%2F&files=NF-UQ-NIDS.csv\"\n",
        "        if train:\n",
        "            self.filenames = 'gdrive/MyDrive/NF_UQ_NIDS_train.h5'\n",
        "        else :\n",
        "            self.filenames = 'gdrive/MyDrive/NF_UQ_NIDS_test.h5'\n",
        "        data = pd.read_hdf(self.filenames)\n",
        "\n",
        "        label = 'Label'\n",
        "        data_without_label = data.loc[:, data.columns != label]\n",
        "        self.events = torch.Tensor(data_without_label.values)\n",
        "        self.targets = torch.Tensor(data[label].values)\n",
        "    def __getitem__(self, index):\n",
        "        if self.transform is not None:\n",
        "            self.events = self.transform(self.events)\n",
        "            self.tragets = self.transform(self.targets)\n",
        "        event = self.events[index]\n",
        "        target = self.targets[index]\n",
        "        return event, target\n",
        "\n",
        "    def __len__(self):\n",
        "          return len(self.events)\n"
      ],
      "metadata": {
        "id": "HfOtesPnwp3N"
      },
      "execution_count": 43,
      "outputs": []
    },
    {
      "cell_type": "code",
      "source": [
        "import torchvision\n",
        "import torch\n",
        "\n",
        "BATCH_SIZE = 4\n",
        "\n",
        "transform = torchvision.transforms.Compose(\n",
        "    [\n",
        "        torchvision.transforms.ToTensor(),\n",
        "        #torchvision.transforms.Normalize((0.1307,), (0.3081,)),\n",
        "    ]\n",
        ")\n",
        "\n",
        "train_data = NF_UQ_NIDS(train=True)\n",
        "\n",
        "train_loader = torch.utils.data.DataLoader(\n",
        "    train_data,\n",
        "    batch_size=BATCH_SIZE,\n",
        "    shuffle=True\n",
        ")\n",
        "\n",
        "test_loader = torch.utils.data.DataLoader(\n",
        "    NF_UQ_NIDS(train=False),\n",
        "    batch_size=BATCH_SIZE\n",
        ")"
      ],
      "metadata": {
        "id": "6h87QT2uByYe"
      },
      "execution_count": 44,
      "outputs": []
    },
    {
      "cell_type": "markdown",
      "source": [
        "Further Information on ExtraTrees: \n",
        "https://scikit-learn.org/stable/modules/ensemble.html#forest\n",
        "\n",
        "Tutorial used: https://machinelearningmastery.com/extra-trees-ensemble-with-python/"
      ],
      "metadata": {
        "id": "sYldhUqjri_j"
      }
    },
    {
      "cell_type": "code",
      "source": [
        "# check scikit-learn version\n",
        "import sklearn\n",
        "print(sklearn.__version__)"
      ],
      "metadata": {
        "colab": {
          "base_uri": "https://localhost:8080/"
        },
        "id": "xOqcpL3hrigB",
        "outputId": "7819a4e1-b849-4595-f4b0-483593d3863a"
      },
      "execution_count": 6,
      "outputs": [
        {
          "output_type": "stream",
          "name": "stdout",
          "text": [
            "1.0.2\n"
          ]
        }
      ]
    },
    {
      "cell_type": "code",
      "source": [
        "# evaluate extra trees algorithm for classification\n",
        "from numpy import mean\n",
        "from numpy import std\n",
        "from sklearn.datasets import make_classification\n",
        "from sklearn.model_selection import cross_val_score\n",
        "from sklearn.model_selection import RepeatedStratifiedKFold\n",
        "from sklearn.ensemble import ExtraTreesClassifier\n",
        "# define dataset\n",
        "X, y = train_data[:]\n",
        "# define the model\n",
        "model = ExtraTreesClassifier()\n",
        "# evaluate the model\n",
        "cv = RepeatedStratifiedKFold(n_splits=10, n_repeats=3, random_state=1)\n",
        "n_scores = cross_val_score(model, X, y, scoring='accuracy', cv=cv, n_jobs=-1, error_score='raise')\n",
        "# report performance\n",
        "print('Accuracy: %.3f (%.3f)' % (mean(n_scores), std(n_scores)))"
      ],
      "metadata": {
        "colab": {
          "base_uri": "https://localhost:8080/"
        },
        "id": "x8_HoncyEtKh",
        "outputId": "256ad5e7-23ac-485d-e1f3-97b75430476d"
      },
      "execution_count": 58,
      "outputs": [
        {
          "output_type": "stream",
          "name": "stdout",
          "text": [
            "Accuracy: 0.960 (0.016)\n"
          ]
        }
      ]
    }
  ]
}