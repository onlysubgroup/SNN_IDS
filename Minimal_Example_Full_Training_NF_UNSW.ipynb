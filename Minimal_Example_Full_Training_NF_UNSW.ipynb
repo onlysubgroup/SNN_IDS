{
  "cells": [
    {
      "cell_type": "markdown",
      "metadata": {
        "id": "view-in-github",
        "colab_type": "text"
      },
      "source": [
        "<a href=\"https://colab.research.google.com/github/onlysubgroup/SNN_IDS/blob/main/Minimal_Example_Full_Training_NF_UNSW.ipynb\" target=\"_parent\"><img src=\"https://colab.research.google.com/assets/colab-badge.svg\" alt=\"Open In Colab\"/></a>"
      ]
    },
    {
      "cell_type": "markdown",
      "metadata": {
        "id": "b7IYU0Bqomb2"
      },
      "source": [
        "# Training an MNIST classifier\n",
        "\n",
        "This tutorial introduces the [norse](norse.ai) library by going through the \"Hello World\" of deep-learning: How to classify hand-written digits. Norse is based on the popular pytorch deep-learning library and this is in fact the only requirement you need to build your own models with it."
      ]
    },
    {
      "cell_type": "code",
      "execution_count": null,
      "metadata": {
        "id": "wu93JGgT2CJ2"
      },
      "outputs": [],
      "source": [
        "import torch\n",
        "import numpy as np\n",
        "import matplotlib.pyplot as plt"
      ]
    },
    {
      "cell_type": "markdown",
      "metadata": {
        "id": "9rmUJSdzqypr"
      },
      "source": [
        "We can simply install Norse through pip:"
      ]
    },
    {
      "cell_type": "code",
      "execution_count": null,
      "metadata": {
        "id": "DPb7tCeX2Jkb",
        "colab": {
          "base_uri": "https://localhost:8080/"
        },
        "outputId": "e11aea55-a704-41ac-e2b9-e9a9a9712f4e"
      },
      "outputs": [
        {
          "output_type": "stream",
          "name": "stdout",
          "text": [
            "\u001b[?25l\r\u001b[K     |███                             | 10 kB 19.4 MB/s eta 0:00:01\r\u001b[K     |██████                          | 20 kB 19.2 MB/s eta 0:00:01\r\u001b[K     |█████████                       | 30 kB 11.5 MB/s eta 0:00:01\r\u001b[K     |████████████                    | 40 kB 9.5 MB/s eta 0:00:01\r\u001b[K     |███████████████                 | 51 kB 4.8 MB/s eta 0:00:01\r\u001b[K     |██████████████████              | 61 kB 5.7 MB/s eta 0:00:01\r\u001b[K     |█████████████████████           | 71 kB 5.7 MB/s eta 0:00:01\r\u001b[K     |████████████████████████        | 81 kB 5.5 MB/s eta 0:00:01\r\u001b[K     |███████████████████████████     | 92 kB 6.1 MB/s eta 0:00:01\r\u001b[K     |██████████████████████████████  | 102 kB 5.3 MB/s eta 0:00:01\r\u001b[K     |████████████████████████████████| 109 kB 5.3 MB/s \n",
            "\u001b[?25h  Installing build dependencies ... \u001b[?25l\u001b[?25hdone\n",
            "  Getting requirements to build wheel ... \u001b[?25l\u001b[?25hdone\n",
            "    Preparing wheel metadata ... \u001b[?25l\u001b[?25hdone\n",
            "  Building wheel for norse (PEP 517) ... \u001b[?25l\u001b[?25hdone\n"
          ]
        }
      ],
      "source": [
        "!pip install --quiet norse"
      ]
    },
    {
      "cell_type": "markdown",
      "metadata": {
        "id": "YrZ71gW94b1O"
      },
      "source": [
        "## Integrating point neuron model equations\n",
        "\n",
        "Spiking neuron models are given as (typically very simple) systems of ordinary differential\n",
        "equations. A common example used is the so called current based leaky integrate and fire neuron model (LIF). Its differential equation is given by\n",
        "\\begin{align*}\n",
        "\\dot{v} &= -(v - v_\\text{reset}) + I \\\\\n",
        "\\dot{I} &= -I + I_\\text{in}\n",
        "\\end{align*}\n",
        "together with jump and transition equations, that specify when a jump occurs and\n",
        "how the state variables change. A prototypical equation is a leaky integrator\n",
        "with constant current input $I_\\text{in}$, with jump condition $v - 1 = 0$ and transition equation $v^+ - v^- = -1$.\n"
      ]
    },
    {
      "cell_type": "code",
      "execution_count": null,
      "metadata": {
        "id": "ZzPRyc8E2M8a"
      },
      "outputs": [],
      "source": [
        "from norse.torch.functional import lif_step, lift, lif_feed_forward_step, lif_current_encoder, LIFParameters\n",
        "\n",
        "N = 1 # number of neurons to consider\n",
        "T = 100 # number of timesteps to integrate\n",
        "\n",
        "p = LIFParameters()\n",
        "v = torch.zeros(N) # initial membrane voltage\n",
        "input_current = 1.1 * torch.ones(N)\n",
        "\n",
        "voltages = []\n",
        "\n",
        "for ts in range(T):\n",
        "  z, v = lif_current_encoder(input_current, v, p)\n",
        "  voltages.append(v)\n",
        "\n",
        "voltages = torch.stack(voltages)"
      ]
    },
    {
      "cell_type": "markdown",
      "metadata": {
        "id": "jbxTDIjLELQl"
      },
      "source": [
        "We can now plot the voltages over time:"
      ]
    },
    {
      "cell_type": "code",
      "execution_count": null,
      "metadata": {
        "id": "-08v6pZOELQm",
        "outputId": "d454d21b-f502-4015-bc3e-bb52454c2257",
        "colab": {
          "base_uri": "https://localhost:8080/",
          "height": 296
        }
      },
      "outputs": [
        {
          "output_type": "execute_result",
          "data": {
            "text/plain": [
              "[<matplotlib.lines.Line2D at 0x7f86bf6f8dd0>]"
            ]
          },
          "metadata": {},
          "execution_count": 4
        },
        {
          "output_type": "display_data",
          "data": {
            "text/plain": [
              "<Figure size 432x288 with 1 Axes>"
            ],
            "image/png": "[encoded data removed]"
          },
          "metadata": {
            "needs_background": "light"
          }
        }
      ],
      "source": [
        "plt.ylabel(\"v\")\n",
        "plt.xlabel(\"time [ms]\")\n",
        "plt.plot(voltages)"
      ]
    },
    {
      "cell_type": "markdown",
      "source": [
        "Above part as it from https://norse.github.io/notebooks/mnist_classifiers.html\n",
        "\n",
        "\n",
        "Below part changed to load NF-UNSW data instead."
      ],
      "metadata": {
        "id": "m05-PLnSmRZz"
      }
    },
    {
      "cell_type": "markdown",
      "metadata": {
        "id": "MOYVGOvhrDty"
      },
      "source": [
        "## NF-UNSW dataset\n"
      ]
    },
    {
      "cell_type": "code",
      "source": [
        "!pip install --quiet tonic"
      ],
      "metadata": {
        "id": "P-TMfEn0Dpem",
        "colab": {
          "base_uri": "https://localhost:8080/"
        },
        "outputId": "b52e20af-7d0d-4b6c-a816-03ce125b3e5a"
      },
      "execution_count": null,
      "outputs": [
        {
          "output_type": "stream",
          "name": "stdout",
          "text": [
            "\u001b[K     |████████████████████████████████| 86 kB 3.0 MB/s \n",
            "\u001b[K     |████████████████████████████████| 112 kB 39.7 MB/s \n",
            "\u001b[?25h  Building wheel for importRosbag (setup.py) ... \u001b[?25l\u001b[?25hdone\n"
          ]
        }
      ]
    },
    {
      "cell_type": "code",
      "source": [
        "from google.colab import drive\n",
        "drive.mount('/content/gdrive')"
      ],
      "metadata": {
        "colab": {
          "base_uri": "https://localhost:8080/"
        },
        "id": "qHq3aZpIJuXM",
        "outputId": "fccb5d35-4706-4082-910e-9b7ae2394b50"
      },
      "execution_count": null,
      "outputs": [
        {
          "output_type": "stream",
          "name": "stdout",
          "text": [
            "Mounted at /content/gdrive\n"
          ]
        }
      ]
    },
    {
      "cell_type": "code",
      "source": [
        "# from https://tonic.readthedocs.io/en/latest/tutorials/wrapping_own_data.html\n",
        "from tonic import Dataset, transforms\n",
        "import pandas as pd\n",
        "class NF_UNSW(Dataset):\n",
        "    def __init__(\n",
        "        self,\n",
        "        train=True,\n",
        "        transform=None,\n",
        "        target_transform=None,\n",
        "        targets=None,\n",
        "        data=None,\n",
        "    ):\n",
        "        super(NF_UNSW, self).__init__(\n",
        "            transform=transform, target_transform=target_transform\n",
        "        )\n",
        "        self.train = train\n",
        "\n",
        "        # Source: https://cloudstor.aarnet.edu.au/plus/s/N0JTc8JFNtZtUE4/download?path=%2F&files=NF-UNSW-NB15.csv\n",
        "        if train:\n",
        "            self.filenames = '/content/gdrive/MyDrive/NF-UNSW_1000.h5'\n",
        "        else:\n",
        "            self.filenames = '/content/gdrive/MyDrive/NF-UNSW_222.h5'\n",
        "        data = pd.read_hdf(self.filenames)\n",
        "        #print(test)\n",
        "\n",
        "        label = 'Label'\n",
        "        data_without_label = data.loc[:, data.columns != label]\n",
        "        self.events = torch.Tensor(data_without_label.values)\n",
        "        self.targets = torch.Tensor(data[label].values)\n",
        "    def __getitem__(self, index):\n",
        "        if self.transform is not None:\n",
        "            self.events = self.transform(self.events)\n",
        "            self.tragets = self.transform(self.targets)\n",
        "        event = self.events[index]\n",
        "        target = self.targets[index]\n",
        "        #print(event.shape)\n",
        "        #print('event'+ str(event))\n",
        "        #print(target.shape)\n",
        "        #print('target'+str(target))\n",
        "        return event, target\n",
        "\n",
        "    def __len__(self):\n",
        "          return len(self.events)\n",
        "\n"
      ],
      "metadata": {
        "id": "6gxwE_lpC1vF"
      },
      "execution_count": null,
      "outputs": []
    },
    {
      "cell_type": "code",
      "execution_count": null,
      "metadata": {
        "id": "RPs81D-QrFWV",
        "scrolled": false
      },
      "outputs": [],
      "source": [
        "import torchvision\n",
        "\n",
        "BATCH_SIZE = 4\n",
        "\n",
        "transform = torchvision.transforms.Compose(\n",
        "    [\n",
        "        torchvision.transforms.ToTensor(),\n",
        "        #torchvision.transforms.Normalize((0.1307,), (0.3081,)),\n",
        "    ]\n",
        ")\n",
        "\n",
        "train_data = NF_UNSW(train=True)\n",
        "\n",
        "train_loader = torch.utils.data.DataLoader(\n",
        "    train_data,\n",
        "    batch_size=BATCH_SIZE,\n",
        "    shuffle=True\n",
        ")\n",
        "\n",
        "test_loader = torch.utils.data.DataLoader(\n",
        "    NF_UNSW(train=False),\n",
        "    batch_size=BATCH_SIZE\n",
        ")\n"
      ]
    },
    {
      "cell_type": "markdown",
      "metadata": {
        "id": "c_STHa4ethi4"
      },
      "source": [
        "## Encoding Input Data\n",
        "\n",
        "One of the distinguishing features of spiking neural networks is that they\n",
        "operate on temporal data encoded as spikes. Common datasets in machine learning\n",
        "of course don't use such an encoding and therefore make a encoding step necessary. Here we choose to treat the grayscale value of an MNIST image\n",
        "as a constant current to produce input spikes to the rest of the network.\n",
        "Another option would be to interpret the grayscale value as a spike probabilty\n",
        "at each timestep.\n"
      ]
    },
    {
      "cell_type": "markdown",
      "metadata": {
        "id": "pVYrXB00-fqO"
      },
      "source": [
        "### Constant Current Encoder"
      ]
    },
    {
      "cell_type": "code",
      "execution_count": null,
      "metadata": {
        "id": "BHwqgEFvZaoQ"
      },
      "outputs": [],
      "source": [
        "from norse.torch import ConstantCurrentLIFEncoder"
      ]
    },
    {
      "cell_type": "markdown",
      "metadata": {
        "id": "EHH7pA86l_nL"
      },
      "source": [
        "We can easily visualise the effect of this choice of encoding on a sample image in the training data set"
      ]
    },
    {
      "cell_type": "code",
      "execution_count": null,
      "metadata": {
        "colab": {
          "base_uri": "https://localhost:8080/"
        },
        "id": "cbYBEbBsTNam",
        "outputId": "702e4a4d-6e3e-4ef0-98f7-0bccb1b2fed4"
      },
      "outputs": [
        {
          "output_type": "stream",
          "name": "stdout",
          "text": [
            "tensor([3.2284e+04, 1.5260e+03, 6.0000e+00, 0.0000e+00, 1.7760e+03, 1.0400e+02,\n",
            "        6.0000e+00, 2.0000e+00, 2.5000e+01, 0.0000e+00])\n"
          ]
        }
      ],
      "source": [
        "# pick one  row\n",
        "example_event, example_target = train_data[:]\n",
        "example_tensor = torch.select(example_event, 0, 1)\n",
        "#print(example_event)\n",
        "#print(example_target)\n",
        "print(example_tensor)\n"
      ]
    },
    {
      "cell_type": "code",
      "execution_count": null,
      "metadata": {
        "colab": {
          "base_uri": "https://localhost:8080/",
          "height": 279
        },
        "id": "FWAPfbM7T6lM",
        "outputId": "2ca9d5c9-06a6-4eea-d55c-1f78902417a2"
      },
      "outputs": [
        {
          "output_type": "display_data",
          "data": {
            "text/plain": [
              "<Figure size 432x288 with 1 Axes>"
            ],
            "image/png": "[encoded data removed]"
          },
          "metadata": {
            "needs_background": "light"
          }
        }
      ],
      "source": [
        "T = 32\n",
        "example_encoder = ConstantCurrentLIFEncoder(T)\n",
        "\n",
        "\n",
        "example_input = example_encoder(example_tensor)\n",
        "\n",
        "example_spikes = example_input.reshape(T,10).to_sparse().coalesce()\n",
        "\n",
        "t = example_spikes.indices()[0]\n",
        "n = example_spikes.indices()[1]\n",
        "\n",
        "plt.scatter(t, n, marker='|', color='black')\n",
        "plt.ylabel('Input Unit')\n",
        "plt.xlabel('Time [ms]')\n",
        "plt.show()"
      ]
    },
    {
      "cell_type": "code",
      "source": [
        "print(example_input.shape)\n",
        "#print(example_input)"
      ],
      "metadata": {
        "colab": {
          "base_uri": "https://localhost:8080/"
        },
        "id": "4bvtgCL1uLoG",
        "outputId": "cdd4d11a-2b55-4787-ade9-1f58266ef478"
      },
      "execution_count": null,
      "outputs": [
        {
          "output_type": "stream",
          "name": "stdout",
          "text": [
            "torch.Size([32, 10])\n"
          ]
        }
      ]
    },
    {
      "cell_type": "markdown",
      "source": [
        "## Defining a Network\n",
        "\n",
        "Once the data is encoded into spikes, a spiking neural network can be constructed in the same way as a one would construct a recurrent neural network.\n",
        "Here we define a spiking neural network with one recurrently connected layer\n",
        "with `hidden_features` LIF neurons and a readout layer with `output_features` and leaky-integrators. As you can see, we can freely combine spiking neural network primitives with ordinary `torch.nn.Module` layers."
      ],
      "metadata": {
        "id": "06unFSkBkDlj"
      }
    },
    {
      "cell_type": "code",
      "source": [
        "from norse.torch import LIFParameters, LIFState\n",
        "from norse.torch.module.lif import LIFCell, LIFRecurrentCell\n",
        "# Notice the difference between \"LIF\" (leaky integrate-and-fire) and \"LI\" (leaky integrator)\n",
        "from norse.torch import LICell, LIState\n",
        "\n",
        "from typing import NamedTuple\n",
        "\n",
        "class SNNState(NamedTuple):\n",
        "    lif0 : LIFState\n",
        "    readout : LIState\n",
        "\n",
        "\n",
        "class SNN(torch.nn.Module):\n",
        "    def __init__(self, input_features, hidden_features, output_features, record=False, dt=0.001):\n",
        "        super(SNN, self).__init__()\n",
        "        self.l1 = LIFRecurrentCell(\n",
        "            input_features,\n",
        "            hidden_features,\n",
        "            p=LIFParameters(alpha=100, v_th=torch.tensor(0.5)),\n",
        "            dt=dt                     \n",
        "        )\n",
        "        self.input_features = input_features\n",
        "        self.fc_out = torch.nn.Linear(hidden_features, output_features, bias=False)\n",
        "        self.out = LICell(dt=dt)\n",
        "\n",
        "        self.hidden_features = hidden_features\n",
        "        self.output_features = output_features\n",
        "        self.record = record\n",
        "        \n",
        "\n",
        "        \n",
        "    def forward(self, x):\n",
        "        #print(x.shape)\n",
        "        x = x.unsqueeze(1)\n",
        "        seq_length, batch_size, _, _= x.shape\n",
        "        #print(seq_length)\n",
        "        s1 = so = None\n",
        "        voltages = []\n",
        "\n",
        "        if self.record:\n",
        "          self.recording = SNNState(\n",
        "              LIFState(\n",
        "                z = torch.zeros(seq_length, batch_size, self.hidden_features),\n",
        "                v = torch.zeros(seq_length, batch_size, self.hidden_features),\n",
        "                i = torch.zeros(seq_length, batch_size, self.hidden_features)\n",
        "              ),\n",
        "              LIState(\n",
        "                v = torch.zeros(seq_length, batch_size, self.output_features),\n",
        "                i = torch.zeros(seq_length, batch_size, self.output_features)\n",
        "              )\n",
        "          )\n",
        "\n",
        "        for ts in range(seq_length):\n",
        "            #print('x'+ str(x.shape))\n",
        "            z = x[ts, :, :, :].view(-1, self.input_features)\n",
        "            #print('z:'+ str(z.shape))\n",
        "            z, s1 = self.l1(z, s1)\n",
        "            z = self.fc_out(z)\n",
        "            vo, so = self.out(z, so)\n",
        "            if self.record:\n",
        "              self.recording.lif0.z[ts,:] = s1.z\n",
        "              self.recording.lif0.v[ts,:] = s1.v\n",
        "              self.recording.lif0.i[ts,:] = s1.i\n",
        "              self.recording.readout.v[ts,:] = so.v\n",
        "              self.recording.readout.i[ts,:] = so.i\n",
        "            voltages += [vo]\n",
        "\n",
        "        return torch.stack(voltages)"
      ],
      "metadata": {
        "id": "F8k9Sjj7j_Bq"
      },
      "execution_count": null,
      "outputs": []
    },
    {
      "cell_type": "markdown",
      "source": [
        "We can visualize the output produced by the recurrent spiking neural network on the example input."
      ],
      "metadata": {
        "id": "67i7HqshlFVl"
      }
    },
    {
      "cell_type": "code",
      "source": [
        "example_snn = SNN(10, 100, 2, record=True, dt=0.001)\n",
        "# unsqueeze(add dim), not sure if makes sense see below for shapes\n",
        "# but as seen above \"seq_length, batch_size, _, _, _ = x.shape\" last 3 params don't seem to matter here\n",
        "# but later tensor get's reshaped with \"x[ts, :, :, :].view(-1, self.input_features)\"\n",
        "example_input_unsqueeze_1 = example_input.unsqueeze(1)\n",
        "example_input_unsqueeze_2 = example_input_unsqueeze_1.unsqueeze(1)\n",
        "example_input_unsqueeze_3 = example_input_unsqueeze_2.unsqueeze(1)\n",
        "example_readout_voltages = example_snn(example_input_unsqueeze_1)\n",
        "voltages = example_readout_voltages.squeeze(1).detach().numpy()\n",
        "\n",
        "plt.plot(voltages)\n",
        "plt.ylabel('Voltage [a.u.]')\n",
        "plt.xlabel('Time [ms]')\n",
        "plt.show()"
      ],
      "metadata": {
        "id": "rwt0TaWWlILL",
        "colab": {
          "base_uri": "https://localhost:8080/",
          "height": 279
        },
        "outputId": "8d53ef7c-1040-4a48-c51e-db3588ce0945"
      },
      "execution_count": null,
      "outputs": [
        {
          "output_type": "display_data",
          "data": {
            "text/plain": [
              "<Figure size 432x288 with 1 Axes>"
            ],
            "image/png": "[encoded data removed]"
          },
          "metadata": {
            "needs_background": "light"
          }
        }
      ]
    },
    {
      "cell_type": "code",
      "source": [
        "print(example_snn)\n",
        "print(example_input_unsqueeze_2.shape)\n",
        "print(example_readout_voltages.shape)\n",
        "\n"
      ],
      "metadata": {
        "colab": {
          "base_uri": "https://localhost:8080/"
        },
        "id": "q5ffYy1DxfU2",
        "outputId": "272e6e79-c621-40fd-e360-cf9a740771ae"
      },
      "execution_count": null,
      "outputs": [
        {
          "output_type": "stream",
          "name": "stdout",
          "text": [
            "SNN(\n",
            "  (l1): LIFRecurrentCell(input_size=10, hidden_size=100, p=LIFParameters(tau_syn_inv=tensor(200.), tau_mem_inv=tensor(100.), v_leak=tensor(0.), v_th=tensor(0.5000), v_reset=tensor(0.), method='super', alpha=tensor(100)), autapses=False, dt=0.001)\n",
            "  (fc_out): Linear(in_features=100, out_features=2, bias=False)\n",
            "  (out): LICell(p=LIParameters(tau_syn_inv=tensor(200.), tau_mem_inv=tensor(100.), v_leak=tensor(0.)), dt=0.001)\n",
            ")\n",
            "torch.Size([32, 1, 1, 10])\n",
            "torch.Size([32, 1, 2])\n"
          ]
        }
      ]
    },
    {
      "cell_type": "code",
      "source": [
        "plt.plot(example_snn.recording.lif0.v.squeeze(1).detach().numpy())\n",
        "plt.show()"
      ],
      "metadata": {
        "colab": {
          "base_uri": "https://localhost:8080/",
          "height": 265
        },
        "id": "BR00jBHLOUwh",
        "outputId": "0348947c-1592-4b18-f69e-06b3efef4123"
      },
      "execution_count": null,
      "outputs": [
        {
          "output_type": "display_data",
          "data": {
            "text/plain": [
              "<Figure size 432x288 with 1 Axes>"
            ],
            "image/png": "[encoded data removed]"
          },
          "metadata": {
            "needs_background": "light"
          }
        }
      ]
    },
    {
      "cell_type": "code",
      "source": [
        "plt.plot(example_snn.recording.lif0.i.squeeze(1).detach().numpy())\n",
        "plt.show()"
      ],
      "metadata": {
        "colab": {
          "base_uri": "https://localhost:8080/",
          "height": 265
        },
        "id": "NW_Q09NmOXGM",
        "outputId": "d80fc5cc-ceba-4b08-dbe8-3cfdb66f858d"
      },
      "execution_count": null,
      "outputs": [
        {
          "output_type": "display_data",
          "data": {
            "text/plain": [
              "<Figure size 432x288 with 1 Axes>"
            ],
            "image/png": "[encoded data removed]"
          },
          "metadata": {
            "needs_background": "light"
          }
        }
      ]
    },
    {
      "cell_type": "markdown",
      "source": [
        "## Decoding the Output\n",
        "\n",
        "The output of the network we have defined are $10$ membrane voltage traces. What remains to do is to interpret those as a probabilty distribution. One way of doing so is to determine the maximum along the time dimension and to then compute the softmax of these values. There are other options of course, for example to consider\n",
        "the average membrane voltage in a given time window or use a LIF neuron output layer and consider the time to first spike."
      ],
      "metadata": {
        "id": "YfbSWFBjOpvg"
      }
    },
    {
      "cell_type": "code",
      "source": [
        "def decode(x):\n",
        "    x, _ = torch.max(x, 0)\n",
        "    log_p_y = torch.nn.functional.log_softmax(x, dim=1)\n",
        "    return log_p_y"
      ],
      "metadata": {
        "id": "enHF2YSOOlQ9"
      },
      "execution_count": null,
      "outputs": []
    },
    {
      "cell_type": "markdown",
      "source": [
        "An alternative way of decoding would be to consider only the \n",
        "membrane trace at the last measured time step."
      ],
      "metadata": {
        "id": "65H17XfrOwWA"
      }
    },
    {
      "cell_type": "code",
      "source": [
        "def decode_last(x):\n",
        "    x = x[-1]\n",
        "    log_p_y = torch.nn.functional.log_softmax(x, dim=1)\n",
        "    return log_p_y"
      ],
      "metadata": {
        "id": "R_G8ymb8OzFp"
      },
      "execution_count": null,
      "outputs": []
    },
    {
      "cell_type": "markdown",
      "source": [
        "## Training the Network\n",
        "\n",
        "The final model is then simply the sequential composition of these three steps: Encoding, a spiking neural network and decoding."
      ],
      "metadata": {
        "id": "S0ANiWwuPB9c"
      }
    },
    {
      "cell_type": "code",
      "source": [
        "class Model(torch.nn.Module):\n",
        "    def __init__(self, encoder, snn, decoder):\n",
        "        super(Model, self).__init__()\n",
        "        self.encoder = encoder\n",
        "        self.snn = snn\n",
        "        self.decoder = decoder\n",
        "\n",
        "    def forward(self, x):\n",
        "        x = self.encoder(x)\n",
        "        #print(\"Modelx\"+str(x.shape))\n",
        "        x = self.snn(x)\n",
        "        #print(\"Modelx_after_snn\"+str(x.shape))\n",
        "        log_p_y = self.decoder(x)\n",
        "        return log_p_y"
      ],
      "metadata": {
        "id": "54Q6TuhbPFIf"
      },
      "execution_count": null,
      "outputs": []
    },
    {
      "cell_type": "markdown",
      "source": [
        "We can then instantiate the model with the recurrent ```SNN``` network defined above."
      ],
      "metadata": {
        "id": "1JE0m-pjPQVR"
      }
    },
    {
      "cell_type": "code",
      "source": [
        "T = 32\n",
        "LR = 0.002\n",
        "INPUT_FEATURES = 10\n",
        "HIDDEN_FEATURES = 100\n",
        "OUTPUT_FEATURES = 2\n",
        "\n",
        "if torch.cuda.is_available():\n",
        "    DEVICE = torch.device(\"cuda\")\n",
        "else:\n",
        "    DEVICE = torch.device(\"cpu\")\n",
        "\n",
        "model = Model(\n",
        "    encoder=ConstantCurrentLIFEncoder(\n",
        "      seq_length=T,\n",
        "    ),\n",
        "    snn=SNN(\n",
        "      input_features=INPUT_FEATURES,\n",
        "      hidden_features=HIDDEN_FEATURES,\n",
        "      output_features=OUTPUT_FEATURES\n",
        "    ),\n",
        "    decoder=decode\n",
        ").to(DEVICE)\n",
        "\n",
        "optimizer = torch.optim.Adam(model.parameters(), lr=LR)\n",
        "model"
      ],
      "metadata": {
        "colab": {
          "base_uri": "https://localhost:8080/"
        },
        "id": "vdqL6S3pPTae",
        "outputId": "a955acda-1cf6-4c7c-cc3e-69eefde53496"
      },
      "execution_count": null,
      "outputs": [
        {
          "output_type": "execute_result",
          "data": {
            "text/plain": [
              "Model(\n",
              "  (encoder): ConstantCurrentLIFEncoder()\n",
              "  (snn): SNN(\n",
              "    (l1): LIFRecurrentCell(input_size=10, hidden_size=100, p=LIFParameters(tau_syn_inv=tensor(200.), tau_mem_inv=tensor(100.), v_leak=tensor(0.), v_th=tensor(0.5000), v_reset=tensor(0.), method='super', alpha=tensor(100)), autapses=False, dt=0.001)\n",
              "    (fc_out): Linear(in_features=100, out_features=2, bias=False)\n",
              "    (out): LICell(p=LIParameters(tau_syn_inv=tensor(200.), tau_mem_inv=tensor(100.), v_leak=tensor(0.)), dt=0.001)\n",
              "  )\n",
              ")"
            ]
          },
          "metadata": {},
          "execution_count": 228
        }
      ]
    },
    {
      "cell_type": "markdown",
      "source": [
        "What remains to do is to setup training and test code. This code is completely independent of the fact that we are training a spiking neural network and in fact has been largely copied from the pytorch tutorials."
      ],
      "metadata": {
        "id": "DHq0rMKjQD6B"
      }
    },
    {
      "cell_type": "code",
      "source": [
        "from tqdm.notebook import tqdm, trange\n",
        "\n",
        "EPOCHS  = 5  # Increase this number for better performance \n",
        "\n",
        "def train(model, device, train_loader, optimizer, epoch, max_epochs):\n",
        "    model.train()\n",
        "    losses = []\n",
        "    for (data, target) in tqdm(train_loader, leave=False):\n",
        "        #print(data.shape)\n",
        "        #print(\"data\" + str(data))\n",
        "        #print(target.shape)\n",
        "        #print(\"target\" + str(target))\n",
        "        data, target = data.to(device), target.to(device)\n",
        "        optimizer.zero_grad()\n",
        "        output = model(data)\n",
        "        #print(output.shape)\n",
        "        #print(\"output\"+ str(output))\n",
        "        #print(target.shape)\n",
        "        #print(\"target-after_todevice\"+str(target))\n",
        "        \n",
        "        # changed from nll_loss (multi class calssification) to CrossEntropyLoss for binary classification\n",
        "        # tranformed tensor data type to long because required\n",
        "        target = target.long()\n",
        "        loss = torch.nn.CrossEntropyLoss()\n",
        "        loss = loss(output, target)\n",
        "        loss.backward()\n",
        "        optimizer.step()\n",
        "        losses.append(loss.item())\n",
        "\n",
        "    mean_loss = np.mean(losses)\n",
        "    return losses, mean_loss"
      ],
      "metadata": {
        "id": "spftcE_EQFJg"
      },
      "execution_count": null,
      "outputs": []
    },
    {
      "cell_type": "markdown",
      "source": [
        "Just like the training function, the test function is standard boilerplate, common with any other supervised learning task."
      ],
      "metadata": {
        "id": "3RDX0iM_QNc7"
      }
    },
    {
      "cell_type": "code",
      "source": [
        "def test(model, device, test_loader, epoch):\n",
        "    model.eval()\n",
        "    test_loss = 0\n",
        "    correct = 0\n",
        "    with torch.no_grad():\n",
        "        for data, target in test_loader:\n",
        "            data, target = data.to(device), target.to(device)\n",
        "            output = model(data)\n",
        "            target = target.long()\n",
        "            # changed from nll_loss (multi class calssification) to CrossEntropyLoss for binary classification\n",
        "            # tranformed tensor data type to long because required\n",
        "            #reduction = 'sum' from the orginal code\n",
        "            loss = torch.nn.CrossEntropyLoss(reduction='sum')\n",
        "            test_loss += loss(\n",
        "                output, target).item()  # sum up batch loss\n",
        "            pred = output.argmax(\n",
        "                dim=1, keepdim=True\n",
        "            )  # get the index of the max log-probability\n",
        "            correct += pred.eq(target.view_as(pred)).sum().item()\n",
        "\n",
        "    test_loss /= len(test_loader.dataset)\n",
        "\n",
        "    accuracy = 100.0 * correct / len(test_loader.dataset)\n",
        "\n",
        "    return test_loss, accuracy"
      ],
      "metadata": {
        "id": "6kJiYHwzQPeI"
      },
      "execution_count": null,
      "outputs": []
    },
    {
      "cell_type": "code",
      "source": [
        "training_losses = []\n",
        "mean_losses = []\n",
        "test_losses = []\n",
        "accuracies = []\n",
        "\n",
        "torch.autograd.set_detect_anomaly(True)\n",
        "\n",
        "for epoch in trange(EPOCHS):\n",
        "    training_loss, mean_loss = train(model, DEVICE, train_loader, optimizer, epoch, max_epochs=EPOCHS)\n",
        "    test_loss, accuracy = test(model, DEVICE, test_loader, epoch)\n",
        "    training_losses += training_loss\n",
        "    mean_losses.append(mean_loss)\n",
        "    test_losses.append(test_loss)\n",
        "    accuracies.append(accuracy)\n",
        "\n",
        "print(f\"final accuracy: {accuracies[-1]}\")"
      ],
      "metadata": {
        "colab": {
          "base_uri": "https://localhost:8080/",
          "height": 66,
          "referenced_widgets": [
            "51132ac637274309b02ccbd22525f707",
            "b0615eb6480c4059b181516c45af876e",
            "db37500235514dc79b3b16dd3764e611",
            "438f4c181ee4412993d3b6337b1a85db",
            "2354f3990f7744edb53fd8d0f7365373",
            "73ddcc29234f40ad91cde9905b66acbe",
            "5a89221997d1479e8c84807076608705",
            "99a792d960e943fa92668e987de5a658",
            "2c312d382a7649c3b0717cb4ada38b59",
            "7cf60b03d58548859a8601b73e7a0cde",
            "97a81f4768fb4411b18e9e1c550b74f0",
            "d7950cd1db954db3bf0f0d8951abba79",
            "416f5e07c193427491879a6192b50d35",
            "9167abbed56649b2ae4e05b54364bd36",
            "0a708c337fa24562928102bd54932aa2",
            "112d50dd4ba64da9b20e14b7af1620d9",
            "8d319df4627d4ad5b009a6bda7fbb276",
            "50e429fe6ad44663b285171c36eddbc9",
            "2cf99fd0e9a54415817688bf8d676d4d",
            "43842795536c4a5f9712036a20b38ab7",
            "3fd249b6e63848e0b9f8d666d7b18a90",
            "1a264b809ce949749a5885ee2423f3c1",
            "aab2b8f2b1d744aeb9a242456ee6088a",
            "3b27709b335548dfb29375c00efd13b5",
            "09c1bf56ef2c4889ad4453e1285caf17",
            "2478791ded224282b42648ba8ae2fcca",
            "9c4b21625a98477ab39894bda077a6d6",
            "c23506ff70b7430e81458ccff6964d97",
            "af60050537ca4e6f82f99d50527d06aa",
            "a9c4c95330114bebbc19c92d5e9f5318",
            "75fd8218ed6246d1aaae17ecfaf24dd3",
            "033a7a6edeaa46df9747badf97084088",
            "99b8cbc950164056a8831b506fc306be",
            "57ed7a4639ce47139f95ec5ef3ac26d4",
            "886a08748ef943fa8cc1873936f1a4d6",
            "fbfbcdadf9e14aeebfcc8b8ae51f4bd6",
            "9b56a0490eae46d6a7a6bba253178920",
            "d6673cb9dc44419882dd0598c5d1b228",
            "e5f6b2bd4fbc45a5894d35780f043432",
            "70ce5221269d4e6587f14162cbd9ac14",
            "75c1b6a98d9b49ae8b435bed620f4dee",
            "1a4a37e39a0244c186ea17c217bf9cef",
            "997685ba2539454cab05394aba9f2a22",
            "d9c57aebf14a435995ee58c779ca42ad",
            "cead0185b8c94902afcb36be5d2154a4",
            "d56d89d0241947219dd4c52fb6b7e556",
            "74320f2417844d2daa73af42c0333ad1",
            "bcbbf8df460b4f23befe9e3360a68c5f",
            "689014622059457fa54d51dc6ebcf9c4",
            "0984c1c773cc4425b6f33794530243b0",
            "17dafa0ca705425fab1889149b63fd62",
            "12bdaf8a59a84fd08c231360531b84ed",
            "9c786540d50f4025ac72d109137185ca",
            "0e17ffda8e36497497ad224b6fdf64a7",
            "b503cab7820c4167a4858f93b7bab7a6",
            "767952f4481e4eddb9888115c4513cd9",
            "1c3cb7a94106404bb97cece0af2fe48d",
            "15e4d54f8d8a4facb7507d39f103938c",
            "4c039c3a186549d7ac96d532245ed903",
            "6a3f068d2304464d999f3ed5a5c2633b",
            "5636ed4a48e940f98d306d9e2816040b",
            "9b86029c2c0c487da3da35cf3b8e337a",
            "1c3c68d19d1e4b429bcb125e64c8e4f2",
            "01a0c4cca65448f2b01e09ecce922a17",
            "d13d23d47dc04158a27978c705b70a1c",
            "6e8bc1cf6f8e452f98f17ca371a3d3b4"
          ]
        },
        "id": "xvlNLam0QTx8",
        "outputId": "79cf601e-efcc-4f64-9d04-d53d1831d646"
      },
      "execution_count": null,
      "outputs": [
        {
          "output_type": "display_data",
          "data": {
            "text/plain": [
              "  0%|          | 0/5 [00:00<?, ?it/s]"
            ],
            "application/vnd.jupyter.widget-view+json": {
              "version_major": 2,
              "version_minor": 0,
              "model_id": "51132ac637274309b02ccbd22525f707"
            }
          },
          "metadata": {}
        },
        {
          "output_type": "display_data",
          "data": {
            "text/plain": [
              "  0%|          | 0/250 [00:00<?, ?it/s]"
            ],
            "application/vnd.jupyter.widget-view+json": {
              "version_major": 2,
              "version_minor": 0,
              "model_id": "d7950cd1db954db3bf0f0d8951abba79"
            }
          },
          "metadata": {}
        },
        {
          "output_type": "display_data",
          "data": {
            "text/plain": [
              "  0%|          | 0/250 [00:00<?, ?it/s]"
            ],
            "application/vnd.jupyter.widget-view+json": {
              "version_major": 2,
              "version_minor": 0,
              "model_id": "aab2b8f2b1d744aeb9a242456ee6088a"
            }
          },
          "metadata": {}
        },
        {
          "output_type": "display_data",
          "data": {
            "text/plain": [
              "  0%|          | 0/250 [00:00<?, ?it/s]"
            ],
            "application/vnd.jupyter.widget-view+json": {
              "version_major": 2,
              "version_minor": 0,
              "model_id": "57ed7a4639ce47139f95ec5ef3ac26d4"
            }
          },
          "metadata": {}
        },
        {
          "output_type": "display_data",
          "data": {
            "text/plain": [
              "  0%|          | 0/250 [00:00<?, ?it/s]"
            ],
            "application/vnd.jupyter.widget-view+json": {
              "version_major": 2,
              "version_minor": 0,
              "model_id": "cead0185b8c94902afcb36be5d2154a4"
            }
          },
          "metadata": {}
        },
        {
          "output_type": "display_data",
          "data": {
            "text/plain": [
              "  0%|          | 0/250 [00:00<?, ?it/s]"
            ],
            "application/vnd.jupyter.widget-view+json": {
              "version_major": 2,
              "version_minor": 0,
              "model_id": "767952f4481e4eddb9888115c4513cd9"
            }
          },
          "metadata": {}
        },
        {
          "output_type": "stream",
          "name": "stdout",
          "text": [
            "final accuracy: 95.49918166939443\n"
          ]
        }
      ]
    },
    {
      "cell_type": "markdown",
      "source": [
        "We can visualize the output of the trained network on an example input"
      ],
      "metadata": {
        "id": "NUhVscH0QhGq"
      }
    },
    {
      "cell_type": "code",
      "source": [
        "trained_snn = model.snn.cpu()\n",
        "trained_readout_voltages = trained_snn(example_input_unsqueeze_1)\n",
        "plt.plot(trained_readout_voltages.squeeze(1).detach().numpy())\n",
        "\n",
        "plt.ylabel('Voltage [a.u.]')\n",
        "plt.xlabel('Time [ms]')\n",
        "plt.show()"
      ],
      "metadata": {
        "id": "D1PrPbQ2Qi8u",
        "colab": {
          "base_uri": "https://localhost:8080/",
          "height": 279
        },
        "outputId": "e2d1ad77-8a0b-4814-9537-057e28fc78f6"
      },
      "execution_count": null,
      "outputs": [
        {
          "output_type": "display_data",
          "data": {
            "text/plain": [
              "<Figure size 432x288 with 1 Axes>"
            ],
            "image/png": "[encoded data removed]"
          },
          "metadata": {
            "needs_background": "light"
          }
        }
      ]
    },
    {
      "cell_type": "markdown",
      "metadata": {
        "id": "M_OUx3IKlQLE"
      },
      "source": [
        "## Conclusions\n",
        "\n",
        "Loading NF-UNSW Dataset with tonic and pandas works.\n",
        "Diffrent Encodings from norse seem to work, all though I don't realy can make sense of the output yet.\n",
        "Train and Test seem to work."
      ]
    }
  ],
  "metadata": {
    "kernelspec": {
      "display_name": "Python 3 (ipykernel)",
      "language": "python",
      "name": "python3"
    },
    "language_info": {
      "codemirror_mode": {
        "name": "ipython",
        "version": 3
      },
      "file_extension": ".py",
      "mimetype": "text/x-python",
      "name": "python",
      "nbconvert_exporter": "python",
      "pygments_lexer": "ipython3",
      "version": "3.9.7"
    },
    "colab": {
      "name": "Minimal_Example_Full_Training_NF_UNSW.ipynb",
      "provenance": [],
      "collapsed_sections": [
        "YfbSWFBjOpvg"
      ],
      "include_colab_link": true
    },
    "gpuClass": "standard",
    "accelerator": "GPU",
    "widgets": {
      "application/vnd.jupyter.widget-state+json": {
        "51132ac637274309b02ccbd22525f707": {
          "model_module": "@jupyter-widgets/controls",
          "model_name": "HBoxModel",
          "model_module_version": "1.5.0",
          "state": {
            "_dom_classes": [],
            "_model_module": "@jupyter-widgets/controls",
            "_model_module_version": "1.5.0",
            "_model_name": "HBoxModel",
            "_view_count": null,
            "_view_module": "@jupyter-widgets/controls",
            "_view_module_version": "1.5.0",
            "_view_name": "HBoxView",
            "box_style": "",
            "children": [
              "IPY_MODEL_b0615eb6480c4059b181516c45af876e",
              "IPY_MODEL_db37500235514dc79b3b16dd3764e611",
              "IPY_MODEL_438f4c181ee4412993d3b6337b1a85db"
            ],
            "layout": "IPY_MODEL_2354f3990f7744edb53fd8d0f7365373"
          }
        },
        "b0615eb6480c4059b181516c45af876e": {
          "model_module": "@jupyter-widgets/controls",
          "model_name": "HTMLModel",
          "model_module_version": "1.5.0",
          "state": {
            "_dom_classes": [],
            "_model_module": "@jupyter-widgets/controls",
            "_model_module_version": "1.5.0",
            "_model_name": "HTMLModel",
            "_view_count": null,
            "_view_module": "@jupyter-widgets/controls",
            "_view_module_version": "1.5.0",
            "_view_name": "HTMLView",
            "description": "",
            "description_tooltip": null,
            "layout": "IPY_MODEL_73ddcc29234f40ad91cde9905b66acbe",
            "placeholder": "​",
            "style": "IPY_MODEL_5a89221997d1479e8c84807076608705",
            "value": "100%"
          }
        },
        "db37500235514dc79b3b16dd3764e611": {
          "model_module": "@jupyter-widgets/controls",
          "model_name": "FloatProgressModel",
          "model_module_version": "1.5.0",
          "state": {
            "_dom_classes": [],
            "_model_module": "@jupyter-widgets/controls",
            "_model_module_version": "1.5.0",
            "_model_name": "FloatProgressModel",
            "_view_count": null,
            "_view_module": "@jupyter-widgets/controls",
            "_view_module_version": "1.5.0",
            "_view_name": "ProgressView",
            "bar_style": "success",
            "description": "",
            "description_tooltip": null,
            "layout": "IPY_MODEL_99a792d960e943fa92668e987de5a658",
            "max": 5,
            "min": 0,
            "orientation": "horizontal",
            "style": "IPY_MODEL_2c312d382a7649c3b0717cb4ada38b59",
            "value": 5
          }
        },
        "438f4c181ee4412993d3b6337b1a85db": {
          "model_module": "@jupyter-widgets/controls",
          "model_name": "HTMLModel",
          "model_module_version": "1.5.0",
          "state": {
            "_dom_classes": [],
            "_model_module": "@jupyter-widgets/controls",
            "_model_module_version": "1.5.0",
            "_model_name": "HTMLModel",
            "_view_count": null,
            "_view_module": "@jupyter-widgets/controls",
            "_view_module_version": "1.5.0",
            "_view_name": "HTMLView",
            "description": "",
            "description_tooltip": null,
            "layout": "IPY_MODEL_7cf60b03d58548859a8601b73e7a0cde",
            "placeholder": "​",
            "style": "IPY_MODEL_97a81f4768fb4411b18e9e1c550b74f0",
            "value": " 5/5 [10:46&lt;00:00, 128.42s/it]"
          }
        },
        "2354f3990f7744edb53fd8d0f7365373": {
          "model_module": "@jupyter-widgets/base",
          "model_name": "LayoutModel",
          "model_module_version": "1.2.0",
          "state": {
            "_model_module": "@jupyter-widgets/base",
            "_model_module_version": "1.2.0",
            "_model_name": "LayoutModel",
            "_view_count": null,
            "_view_module": "@jupyter-widgets/base",
            "_view_module_version": "1.2.0",
            "_view_name": "LayoutView",
            "align_content": null,
            "align_items": null,
            "align_self": null,
            "border": null,
            "bottom": null,
            "display": null,
            "flex": null,
            "flex_flow": null,
            "grid_area": null,
            "grid_auto_columns": null,
            "grid_auto_flow": null,
            "grid_auto_rows": null,
            "grid_column": null,
            "grid_gap": null,
            "grid_row": null,
            "grid_template_areas": null,
            "grid_template_columns": null,
            "grid_template_rows": null,
            "height": null,
            "justify_content": null,
            "justify_items": null,
            "left": null,
            "margin": null,
            "max_height": null,
            "max_width": null,
            "min_height": null,
            "min_width": null,
            "object_fit": null,
            "object_position": null,
            "order": null,
            "overflow": null,
            "overflow_x": null,
            "overflow_y": null,
            "padding": null,
            "right": null,
            "top": null,
            "visibility": null,
            "width": null
          }
        },
        "73ddcc29234f40ad91cde9905b66acbe": {
          "model_module": "@jupyter-widgets/base",
          "model_name": "LayoutModel",
          "model_module_version": "1.2.0",
          "state": {
            "_model_module": "@jupyter-widgets/base",
            "_model_module_version": "1.2.0",
            "_model_name": "LayoutModel",
            "_view_count": null,
            "_view_module": "@jupyter-widgets/base",
            "_view_module_version": "1.2.0",
            "_view_name": "LayoutView",
            "align_content": null,
            "align_items": null,
            "align_self": null,
            "border": null,
            "bottom": null,
            "display": null,
            "flex": null,
            "flex_flow": null,
            "grid_area": null,
            "grid_auto_columns": null,
            "grid_auto_flow": null,
            "grid_auto_rows": null,
            "grid_column": null,
            "grid_gap": null,
            "grid_row": null,
            "grid_template_areas": null,
            "grid_template_columns": null,
            "grid_template_rows": null,
            "height": null,
            "justify_content": null,
            "justify_items": null,
            "left": null,
            "margin": null,
            "max_height": null,
            "max_width": null,
            "min_height": null,
            "min_width": null,
            "object_fit": null,
            "object_position": null,
            "order": null,
            "overflow": null,
            "overflow_x": null,
            "overflow_y": null,
            "padding": null,
            "right": null,
            "top": null,
            "visibility": null,
            "width": null
          }
        },
        "5a89221997d1479e8c84807076608705": {
          "model_module": "@jupyter-widgets/controls",
          "model_name": "DescriptionStyleModel",
          "model_module_version": "1.5.0",
          "state": {
            "_model_module": "@jupyter-widgets/controls",
            "_model_module_version": "1.5.0",
            "_model_name": "DescriptionStyleModel",
            "_view_count": null,
            "_view_module": "@jupyter-widgets/base",
            "_view_module_version": "1.2.0",
            "_view_name": "StyleView",
            "description_width": ""
          }
        },
        "99a792d960e943fa92668e987de5a658": {
          "model_module": "@jupyter-widgets/base",
          "model_name": "LayoutModel",
          "model_module_version": "1.2.0",
          "state": {
            "_model_module": "@jupyter-widgets/base",
            "_model_module_version": "1.2.0",
            "_model_name": "LayoutModel",
            "_view_count": null,
            "_view_module": "@jupyter-widgets/base",
            "_view_module_version": "1.2.0",
            "_view_name": "LayoutView",
            "align_content": null,
            "align_items": null,
            "align_self": null,
            "border": null,
            "bottom": null,
            "display": null,
            "flex": null,
            "flex_flow": null,
            "grid_area": null,
            "grid_auto_columns": null,
            "grid_auto_flow": null,
            "grid_auto_rows": null,
            "grid_column": null,
            "grid_gap": null,
            "grid_row": null,
            "grid_template_areas": null,
            "grid_template_columns": null,
            "grid_template_rows": null,
            "height": null,
            "justify_content": null,
            "justify_items": null,
            "left": null,
            "margin": null,
            "max_height": null,
            "max_width": null,
            "min_height": null,
            "min_width": null,
            "object_fit": null,
            "object_position": null,
            "order": null,
            "overflow": null,
            "overflow_x": null,
            "overflow_y": null,
            "padding": null,
            "right": null,
            "top": null,
            "visibility": null,
            "width": null
          }
        },
        "2c312d382a7649c3b0717cb4ada38b59": {
          "model_module": "@jupyter-widgets/controls",
          "model_name": "ProgressStyleModel",
          "model_module_version": "1.5.0",
          "state": {
            "_model_module": "@jupyter-widgets/controls",
            "_model_module_version": "1.5.0",
            "_model_name": "ProgressStyleModel",
            "_view_count": null,
            "_view_module": "@jupyter-widgets/base",
            "_view_module_version": "1.2.0",
            "_view_name": "StyleView",
            "bar_color": null,
            "description_width": ""
          }
        },
        "7cf60b03d58548859a8601b73e7a0cde": {
          "model_module": "@jupyter-widgets/base",
          "model_name": "LayoutModel",
          "model_module_version": "1.2.0",
          "state": {
            "_model_module": "@jupyter-widgets/base",
            "_model_module_version": "1.2.0",
            "_model_name": "LayoutModel",
            "_view_count": null,
            "_view_module": "@jupyter-widgets/base",
            "_view_module_version": "1.2.0",
            "_view_name": "LayoutView",
            "align_content": null,
            "align_items": null,
            "align_self": null,
            "border": null,
            "bottom": null,
            "display": null,
            "flex": null,
            "flex_flow": null,
            "grid_area": null,
            "grid_auto_columns": null,
            "grid_auto_flow": null,
            "grid_auto_rows": null,
            "grid_column": null,
            "grid_gap": null,
            "grid_row": null,
            "grid_template_areas": null,
            "grid_template_columns": null,
            "grid_template_rows": null,
            "height": null,
            "justify_content": null,
            "justify_items": null,
            "left": null,
            "margin": null,
            "max_height": null,
            "max_width": null,
            "min_height": null,
            "min_width": null,
            "object_fit": null,
            "object_position": null,
            "order": null,
            "overflow": null,
            "overflow_x": null,
            "overflow_y": null,
            "padding": null,
            "right": null,
            "top": null,
            "visibility": null,
            "width": null
          }
        },
        "97a81f4768fb4411b18e9e1c550b74f0": {
          "model_module": "@jupyter-widgets/controls",
          "model_name": "DescriptionStyleModel",
          "model_module_version": "1.5.0",
          "state": {
            "_model_module": "@jupyter-widgets/controls",
            "_model_module_version": "1.5.0",
            "_model_name": "DescriptionStyleModel",
            "_view_count": null,
            "_view_module": "@jupyter-widgets/base",
            "_view_module_version": "1.2.0",
            "_view_name": "StyleView",
            "description_width": ""
          }
        },
        "d7950cd1db954db3bf0f0d8951abba79": {
          "model_module": "@jupyter-widgets/controls",
          "model_name": "HBoxModel",
          "model_module_version": "1.5.0",
          "state": {
            "_dom_classes": [],
            "_model_module": "@jupyter-widgets/controls",
            "_model_module_version": "1.5.0",
            "_model_name": "HBoxModel",
            "_view_count": null,
            "_view_module": "@jupyter-widgets/controls",
            "_view_module_version": "1.5.0",
            "_view_name": "HBoxView",
            "box_style": "",
            "children": [
              "IPY_MODEL_416f5e07c193427491879a6192b50d35",
              "IPY_MODEL_9167abbed56649b2ae4e05b54364bd36",
              "IPY_MODEL_0a708c337fa24562928102bd54932aa2"
            ],
            "layout": "IPY_MODEL_112d50dd4ba64da9b20e14b7af1620d9"
          }
        },
        "416f5e07c193427491879a6192b50d35": {
          "model_module": "@jupyter-widgets/controls",
          "model_name": "HTMLModel",
          "model_module_version": "1.5.0",
          "state": {
            "_dom_classes": [],
            "_model_module": "@jupyter-widgets/controls",
            "_model_module_version": "1.5.0",
            "_model_name": "HTMLModel",
            "_view_count": null,
            "_view_module": "@jupyter-widgets/controls",
            "_view_module_version": "1.5.0",
            "_view_name": "HTMLView",
            "description": "",
            "description_tooltip": null,
            "layout": "IPY_MODEL_8d319df4627d4ad5b009a6bda7fbb276",
            "placeholder": "​",
            "style": "IPY_MODEL_50e429fe6ad44663b285171c36eddbc9",
            "value": "100%"
          }
        },
        "9167abbed56649b2ae4e05b54364bd36": {
          "model_module": "@jupyter-widgets/controls",
          "model_name": "FloatProgressModel",
          "model_module_version": "1.5.0",
          "state": {
            "_dom_classes": [],
            "_model_module": "@jupyter-widgets/controls",
            "_model_module_version": "1.5.0",
            "_model_name": "FloatProgressModel",
            "_view_count": null,
            "_view_module": "@jupyter-widgets/controls",
            "_view_module_version": "1.5.0",
            "_view_name": "ProgressView",
            "bar_style": "",
            "description": "",
            "description_tooltip": null,
            "layout": "IPY_MODEL_2cf99fd0e9a54415817688bf8d676d4d",
            "max": 250,
            "min": 0,
            "orientation": "horizontal",
            "style": "IPY_MODEL_43842795536c4a5f9712036a20b38ab7",
            "value": 250
          }
        },
        "0a708c337fa24562928102bd54932aa2": {
          "model_module": "@jupyter-widgets/controls",
          "model_name": "HTMLModel",
          "model_module_version": "1.5.0",
          "state": {
            "_dom_classes": [],
            "_model_module": "@jupyter-widgets/controls",
            "_model_module_version": "1.5.0",
            "_model_name": "HTMLModel",
            "_view_count": null,
            "_view_module": "@jupyter-widgets/controls",
            "_view_module_version": "1.5.0",
            "_view_name": "HTMLView",
            "description": "",
            "description_tooltip": null,
            "layout": "IPY_MODEL_3fd249b6e63848e0b9f8d666d7b18a90",
            "placeholder": "​",
            "style": "IPY_MODEL_1a264b809ce949749a5885ee2423f3c1",
            "value": " 250/250 [01:53&lt;00:00,  2.20it/s]"
          }
        },
        "112d50dd4ba64da9b20e14b7af1620d9": {
          "model_module": "@jupyter-widgets/base",
          "model_name": "LayoutModel",
          "model_module_version": "1.2.0",
          "state": {
            "_model_module": "@jupyter-widgets/base",
            "_model_module_version": "1.2.0",
            "_model_name": "LayoutModel",
            "_view_count": null,
            "_view_module": "@jupyter-widgets/base",
            "_view_module_version": "1.2.0",
            "_view_name": "LayoutView",
            "align_content": null,
            "align_items": null,
            "align_self": null,
            "border": null,
            "bottom": null,
            "display": null,
            "flex": null,
            "flex_flow": null,
            "grid_area": null,
            "grid_auto_columns": null,
            "grid_auto_flow": null,
            "grid_auto_rows": null,
            "grid_column": null,
            "grid_gap": null,
            "grid_row": null,
            "grid_template_areas": null,
            "grid_template_columns": null,
            "grid_template_rows": null,
            "height": null,
            "justify_content": null,
            "justify_items": null,
            "left": null,
            "margin": null,
            "max_height": null,
            "max_width": null,
            "min_height": null,
            "min_width": null,
            "object_fit": null,
            "object_position": null,
            "order": null,
            "overflow": null,
            "overflow_x": null,
            "overflow_y": null,
            "padding": null,
            "right": null,
            "top": null,
            "visibility": null,
            "width": null
          }
        },
        "8d319df4627d4ad5b009a6bda7fbb276": {
          "model_module": "@jupyter-widgets/base",
          "model_name": "LayoutModel",
          "model_module_version": "1.2.0",
          "state": {
            "_model_module": "@jupyter-widgets/base",
            "_model_module_version": "1.2.0",
            "_model_name": "LayoutModel",
            "_view_count": null,
            "_view_module": "@jupyter-widgets/base",
            "_view_module_version": "1.2.0",
            "_view_name": "LayoutView",
            "align_content": null,
            "align_items": null,
            "align_self": null,
            "border": null,
            "bottom": null,
            "display": null,
            "flex": null,
            "flex_flow": null,
            "grid_area": null,
            "grid_auto_columns": null,
            "grid_auto_flow": null,
            "grid_auto_rows": null,
            "grid_column": null,
            "grid_gap": null,
            "grid_row": null,
            "grid_template_areas": null,
            "grid_template_columns": null,
            "grid_template_rows": null,
            "height": null,
            "justify_content": null,
            "justify_items": null,
            "left": null,
            "margin": null,
            "max_height": null,
            "max_width": null,
            "min_height": null,
            "min_width": null,
            "object_fit": null,
            "object_position": null,
            "order": null,
            "overflow": null,
            "overflow_x": null,
            "overflow_y": null,
            "padding": null,
            "right": null,
            "top": null,
            "visibility": null,
            "width": null
          }
        },
        "50e429fe6ad44663b285171c36eddbc9": {
          "model_module": "@jupyter-widgets/controls",
          "model_name": "DescriptionStyleModel",
          "model_module_version": "1.5.0",
          "state": {
            "_model_module": "@jupyter-widgets/controls",
            "_model_module_version": "1.5.0",
            "_model_name": "DescriptionStyleModel",
            "_view_count": null,
            "_view_module": "@jupyter-widgets/base",
            "_view_module_version": "1.2.0",
            "_view_name": "StyleView",
            "description_width": ""
          }
        },
        "2cf99fd0e9a54415817688bf8d676d4d": {
          "model_module": "@jupyter-widgets/base",
          "model_name": "LayoutModel",
          "model_module_version": "1.2.0",
          "state": {
            "_model_module": "@jupyter-widgets/base",
            "_model_module_version": "1.2.0",
            "_model_name": "LayoutModel",
            "_view_count": null,
            "_view_module": "@jupyter-widgets/base",
            "_view_module_version": "1.2.0",
            "_view_name": "LayoutView",
            "align_content": null,
            "align_items": null,
            "align_self": null,
            "border": null,
            "bottom": null,
            "display": null,
            "flex": null,
            "flex_flow": null,
            "grid_area": null,
            "grid_auto_columns": null,
            "grid_auto_flow": null,
            "grid_auto_rows": null,
            "grid_column": null,
            "grid_gap": null,
            "grid_row": null,
            "grid_template_areas": null,
            "grid_template_columns": null,
            "grid_template_rows": null,
            "height": null,
            "justify_content": null,
            "justify_items": null,
            "left": null,
            "margin": null,
            "max_height": null,
            "max_width": null,
            "min_height": null,
            "min_width": null,
            "object_fit": null,
            "object_position": null,
            "order": null,
            "overflow": null,
            "overflow_x": null,
            "overflow_y": null,
            "padding": null,
            "right": null,
            "top": null,
            "visibility": null,
            "width": null
          }
        },
        "43842795536c4a5f9712036a20b38ab7": {
          "model_module": "@jupyter-widgets/controls",
          "model_name": "ProgressStyleModel",
          "model_module_version": "1.5.0",
          "state": {
            "_model_module": "@jupyter-widgets/controls",
            "_model_module_version": "1.5.0",
            "_model_name": "ProgressStyleModel",
            "_view_count": null,
            "_view_module": "@jupyter-widgets/base",
            "_view_module_version": "1.2.0",
            "_view_name": "StyleView",
            "bar_color": null,
            "description_width": ""
          }
        },
        "3fd249b6e63848e0b9f8d666d7b18a90": {
          "model_module": "@jupyter-widgets/base",
          "model_name": "LayoutModel",
          "model_module_version": "1.2.0",
          "state": {
            "_model_module": "@jupyter-widgets/base",
            "_model_module_version": "1.2.0",
            "_model_name": "LayoutModel",
            "_view_count": null,
            "_view_module": "@jupyter-widgets/base",
            "_view_module_version": "1.2.0",
            "_view_name": "LayoutView",
            "align_content": null,
            "align_items": null,
            "align_self": null,
            "border": null,
            "bottom": null,
            "display": null,
            "flex": null,
            "flex_flow": null,
            "grid_area": null,
            "grid_auto_columns": null,
            "grid_auto_flow": null,
            "grid_auto_rows": null,
            "grid_column": null,
            "grid_gap": null,
            "grid_row": null,
            "grid_template_areas": null,
            "grid_template_columns": null,
            "grid_template_rows": null,
            "height": null,
            "justify_content": null,
            "justify_items": null,
            "left": null,
            "margin": null,
            "max_height": null,
            "max_width": null,
            "min_height": null,
            "min_width": null,
            "object_fit": null,
            "object_position": null,
            "order": null,
            "overflow": null,
            "overflow_x": null,
            "overflow_y": null,
            "padding": null,
            "right": null,
            "top": null,
            "visibility": null,
            "width": null
          }
        },
        "1a264b809ce949749a5885ee2423f3c1": {
          "model_module": "@jupyter-widgets/controls",
          "model_name": "DescriptionStyleModel",
          "model_module_version": "1.5.0",
          "state": {
            "_model_module": "@jupyter-widgets/controls",
            "_model_module_version": "1.5.0",
            "_model_name": "DescriptionStyleModel",
            "_view_count": null,
            "_view_module": "@jupyter-widgets/base",
            "_view_module_version": "1.2.0",
            "_view_name": "StyleView",
            "description_width": ""
          }
        },
        "aab2b8f2b1d744aeb9a242456ee6088a": {
          "model_module": "@jupyter-widgets/controls",
          "model_name": "HBoxModel",
          "model_module_version": "1.5.0",
          "state": {
            "_dom_classes": [],
            "_model_module": "@jupyter-widgets/controls",
            "_model_module_version": "1.5.0",
            "_model_name": "HBoxModel",
            "_view_count": null,
            "_view_module": "@jupyter-widgets/controls",
            "_view_module_version": "1.5.0",
            "_view_name": "HBoxView",
            "box_style": "",
            "children": [
              "IPY_MODEL_3b27709b335548dfb29375c00efd13b5",
              "IPY_MODEL_09c1bf56ef2c4889ad4453e1285caf17",
              "IPY_MODEL_2478791ded224282b42648ba8ae2fcca"
            ],
            "layout": "IPY_MODEL_9c4b21625a98477ab39894bda077a6d6"
          }
        },
        "3b27709b335548dfb29375c00efd13b5": {
          "model_module": "@jupyter-widgets/controls",
          "model_name": "HTMLModel",
          "model_module_version": "1.5.0",
          "state": {
            "_dom_classes": [],
            "_model_module": "@jupyter-widgets/controls",
            "_model_module_version": "1.5.0",
            "_model_name": "HTMLModel",
            "_view_count": null,
            "_view_module": "@jupyter-widgets/controls",
            "_view_module_version": "1.5.0",
            "_view_name": "HTMLView",
            "description": "",
            "description_tooltip": null,
            "layout": "IPY_MODEL_c23506ff70b7430e81458ccff6964d97",
            "placeholder": "​",
            "style": "IPY_MODEL_af60050537ca4e6f82f99d50527d06aa",
            "value": "100%"
          }
        },
        "09c1bf56ef2c4889ad4453e1285caf17": {
          "model_module": "@jupyter-widgets/controls",
          "model_name": "FloatProgressModel",
          "model_module_version": "1.5.0",
          "state": {
            "_dom_classes": [],
            "_model_module": "@jupyter-widgets/controls",
            "_model_module_version": "1.5.0",
            "_model_name": "FloatProgressModel",
            "_view_count": null,
            "_view_module": "@jupyter-widgets/controls",
            "_view_module_version": "1.5.0",
            "_view_name": "ProgressView",
            "bar_style": "",
            "description": "",
            "description_tooltip": null,
            "layout": "IPY_MODEL_a9c4c95330114bebbc19c92d5e9f5318",
            "max": 250,
            "min": 0,
            "orientation": "horizontal",
            "style": "IPY_MODEL_75fd8218ed6246d1aaae17ecfaf24dd3",
            "value": 250
          }
        },
        "2478791ded224282b42648ba8ae2fcca": {
          "model_module": "@jupyter-widgets/controls",
          "model_name": "HTMLModel",
          "model_module_version": "1.5.0",
          "state": {
            "_dom_classes": [],
            "_model_module": "@jupyter-widgets/controls",
            "_model_module_version": "1.5.0",
            "_model_name": "HTMLModel",
            "_view_count": null,
            "_view_module": "@jupyter-widgets/controls",
            "_view_module_version": "1.5.0",
            "_view_name": "HTMLView",
            "description": "",
            "description_tooltip": null,
            "layout": "IPY_MODEL_033a7a6edeaa46df9747badf97084088",
            "placeholder": "​",
            "style": "IPY_MODEL_99b8cbc950164056a8831b506fc306be",
            "value": " 250/250 [02:04&lt;00:00,  2.23it/s]"
          }
        },
        "9c4b21625a98477ab39894bda077a6d6": {
          "model_module": "@jupyter-widgets/base",
          "model_name": "LayoutModel",
          "model_module_version": "1.2.0",
          "state": {
            "_model_module": "@jupyter-widgets/base",
            "_model_module_version": "1.2.0",
            "_model_name": "LayoutModel",
            "_view_count": null,
            "_view_module": "@jupyter-widgets/base",
            "_view_module_version": "1.2.0",
            "_view_name": "LayoutView",
            "align_content": null,
            "align_items": null,
            "align_self": null,
            "border": null,
            "bottom": null,
            "display": null,
            "flex": null,
            "flex_flow": null,
            "grid_area": null,
            "grid_auto_columns": null,
            "grid_auto_flow": null,
            "grid_auto_rows": null,
            "grid_column": null,
            "grid_gap": null,
            "grid_row": null,
            "grid_template_areas": null,
            "grid_template_columns": null,
            "grid_template_rows": null,
            "height": null,
            "justify_content": null,
            "justify_items": null,
            "left": null,
            "margin": null,
            "max_height": null,
            "max_width": null,
            "min_height": null,
            "min_width": null,
            "object_fit": null,
            "object_position": null,
            "order": null,
            "overflow": null,
            "overflow_x": null,
            "overflow_y": null,
            "padding": null,
            "right": null,
            "top": null,
            "visibility": null,
            "width": null
          }
        },
        "c23506ff70b7430e81458ccff6964d97": {
          "model_module": "@jupyter-widgets/base",
          "model_name": "LayoutModel",
          "model_module_version": "1.2.0",
          "state": {
            "_model_module": "@jupyter-widgets/base",
            "_model_module_version": "1.2.0",
            "_model_name": "LayoutModel",
            "_view_count": null,
            "_view_module": "@jupyter-widgets/base",
            "_view_module_version": "1.2.0",
            "_view_name": "LayoutView",
            "align_content": null,
            "align_items": null,
            "align_self": null,
            "border": null,
            "bottom": null,
            "display": null,
            "flex": null,
            "flex_flow": null,
            "grid_area": null,
            "grid_auto_columns": null,
            "grid_auto_flow": null,
            "grid_auto_rows": null,
            "grid_column": null,
            "grid_gap": null,
            "grid_row": null,
            "grid_template_areas": null,
            "grid_template_columns": null,
            "grid_template_rows": null,
            "height": null,
            "justify_content": null,
            "justify_items": null,
            "left": null,
            "margin": null,
            "max_height": null,
            "max_width": null,
            "min_height": null,
            "min_width": null,
            "object_fit": null,
            "object_position": null,
            "order": null,
            "overflow": null,
            "overflow_x": null,
            "overflow_y": null,
            "padding": null,
            "right": null,
            "top": null,
            "visibility": null,
            "width": null
          }
        },
        "af60050537ca4e6f82f99d50527d06aa": {
          "model_module": "@jupyter-widgets/controls",
          "model_name": "DescriptionStyleModel",
          "model_module_version": "1.5.0",
          "state": {
            "_model_module": "@jupyter-widgets/controls",
            "_model_module_version": "1.5.0",
            "_model_name": "DescriptionStyleModel",
            "_view_count": null,
            "_view_module": "@jupyter-widgets/base",
            "_view_module_version": "1.2.0",
            "_view_name": "StyleView",
            "description_width": ""
          }
        },
        "a9c4c95330114bebbc19c92d5e9f5318": {
          "model_module": "@jupyter-widgets/base",
          "model_name": "LayoutModel",
          "model_module_version": "1.2.0",
          "state": {
            "_model_module": "@jupyter-widgets/base",
            "_model_module_version": "1.2.0",
            "_model_name": "LayoutModel",
            "_view_count": null,
            "_view_module": "@jupyter-widgets/base",
            "_view_module_version": "1.2.0",
            "_view_name": "LayoutView",
            "align_content": null,
            "align_items": null,
            "align_self": null,
            "border": null,
            "bottom": null,
            "display": null,
            "flex": null,
            "flex_flow": null,
            "grid_area": null,
            "grid_auto_columns": null,
            "grid_auto_flow": null,
            "grid_auto_rows": null,
            "grid_column": null,
            "grid_gap": null,
            "grid_row": null,
            "grid_template_areas": null,
            "grid_template_columns": null,
            "grid_template_rows": null,
            "height": null,
            "justify_content": null,
            "justify_items": null,
            "left": null,
            "margin": null,
            "max_height": null,
            "max_width": null,
            "min_height": null,
            "min_width": null,
            "object_fit": null,
            "object_position": null,
            "order": null,
            "overflow": null,
            "overflow_x": null,
            "overflow_y": null,
            "padding": null,
            "right": null,
            "top": null,
            "visibility": null,
            "width": null
          }
        },
        "75fd8218ed6246d1aaae17ecfaf24dd3": {
          "model_module": "@jupyter-widgets/controls",
          "model_name": "ProgressStyleModel",
          "model_module_version": "1.5.0",
          "state": {
            "_model_module": "@jupyter-widgets/controls",
            "_model_module_version": "1.5.0",
            "_model_name": "ProgressStyleModel",
            "_view_count": null,
            "_view_module": "@jupyter-widgets/base",
            "_view_module_version": "1.2.0",
            "_view_name": "StyleView",
            "bar_color": null,
            "description_width": ""
          }
        },
        "033a7a6edeaa46df9747badf97084088": {
          "model_module": "@jupyter-widgets/base",
          "model_name": "LayoutModel",
          "model_module_version": "1.2.0",
          "state": {
            "_model_module": "@jupyter-widgets/base",
            "_model_module_version": "1.2.0",
            "_model_name": "LayoutModel",
            "_view_count": null,
            "_view_module": "@jupyter-widgets/base",
            "_view_module_version": "1.2.0",
            "_view_name": "LayoutView",
            "align_content": null,
            "align_items": null,
            "align_self": null,
            "border": null,
            "bottom": null,
            "display": null,
            "flex": null,
            "flex_flow": null,
            "grid_area": null,
            "grid_auto_columns": null,
            "grid_auto_flow": null,
            "grid_auto_rows": null,
            "grid_column": null,
            "grid_gap": null,
            "grid_row": null,
            "grid_template_areas": null,
            "grid_template_columns": null,
            "grid_template_rows": null,
            "height": null,
            "justify_content": null,
            "justify_items": null,
            "left": null,
            "margin": null,
            "max_height": null,
            "max_width": null,
            "min_height": null,
            "min_width": null,
            "object_fit": null,
            "object_position": null,
            "order": null,
            "overflow": null,
            "overflow_x": null,
            "overflow_y": null,
            "padding": null,
            "right": null,
            "top": null,
            "visibility": null,
            "width": null
          }
        },
        "99b8cbc950164056a8831b506fc306be": {
          "model_module": "@jupyter-widgets/controls",
          "model_name": "DescriptionStyleModel",
          "model_module_version": "1.5.0",
          "state": {
            "_model_module": "@jupyter-widgets/controls",
            "_model_module_version": "1.5.0",
            "_model_name": "DescriptionStyleModel",
            "_view_count": null,
            "_view_module": "@jupyter-widgets/base",
            "_view_module_version": "1.2.0",
            "_view_name": "StyleView",
            "description_width": ""
          }
        },
        "57ed7a4639ce47139f95ec5ef3ac26d4": {
          "model_module": "@jupyter-widgets/controls",
          "model_name": "HBoxModel",
          "model_module_version": "1.5.0",
          "state": {
            "_dom_classes": [],
            "_model_module": "@jupyter-widgets/controls",
            "_model_module_version": "1.5.0",
            "_model_name": "HBoxModel",
            "_view_count": null,
            "_view_module": "@jupyter-widgets/controls",
            "_view_module_version": "1.5.0",
            "_view_name": "HBoxView",
            "box_style": "",
            "children": [
              "IPY_MODEL_886a08748ef943fa8cc1873936f1a4d6",
              "IPY_MODEL_fbfbcdadf9e14aeebfcc8b8ae51f4bd6",
              "IPY_MODEL_9b56a0490eae46d6a7a6bba253178920"
            ],
            "layout": "IPY_MODEL_d6673cb9dc44419882dd0598c5d1b228"
          }
        },
        "886a08748ef943fa8cc1873936f1a4d6": {
          "model_module": "@jupyter-widgets/controls",
          "model_name": "HTMLModel",
          "model_module_version": "1.5.0",
          "state": {
            "_dom_classes": [],
            "_model_module": "@jupyter-widgets/controls",
            "_model_module_version": "1.5.0",
            "_model_name": "HTMLModel",
            "_view_count": null,
            "_view_module": "@jupyter-widgets/controls",
            "_view_module_version": "1.5.0",
            "_view_name": "HTMLView",
            "description": "",
            "description_tooltip": null,
            "layout": "IPY_MODEL_e5f6b2bd4fbc45a5894d35780f043432",
            "placeholder": "​",
            "style": "IPY_MODEL_70ce5221269d4e6587f14162cbd9ac14",
            "value": "100%"
          }
        },
        "fbfbcdadf9e14aeebfcc8b8ae51f4bd6": {
          "model_module": "@jupyter-widgets/controls",
          "model_name": "FloatProgressModel",
          "model_module_version": "1.5.0",
          "state": {
            "_dom_classes": [],
            "_model_module": "@jupyter-widgets/controls",
            "_model_module_version": "1.5.0",
            "_model_name": "FloatProgressModel",
            "_view_count": null,
            "_view_module": "@jupyter-widgets/controls",
            "_view_module_version": "1.5.0",
            "_view_name": "ProgressView",
            "bar_style": "",
            "description": "",
            "description_tooltip": null,
            "layout": "IPY_MODEL_75c1b6a98d9b49ae8b435bed620f4dee",
            "max": 250,
            "min": 0,
            "orientation": "horizontal",
            "style": "IPY_MODEL_1a4a37e39a0244c186ea17c217bf9cef",
            "value": 250
          }
        },
        "9b56a0490eae46d6a7a6bba253178920": {
          "model_module": "@jupyter-widgets/controls",
          "model_name": "HTMLModel",
          "model_module_version": "1.5.0",
          "state": {
            "_dom_classes": [],
            "_model_module": "@jupyter-widgets/controls",
            "_model_module_version": "1.5.0",
            "_model_name": "HTMLModel",
            "_view_count": null,
            "_view_module": "@jupyter-widgets/controls",
            "_view_module_version": "1.5.0",
            "_view_name": "HTMLView",
            "description": "",
            "description_tooltip": null,
            "layout": "IPY_MODEL_997685ba2539454cab05394aba9f2a22",
            "placeholder": "​",
            "style": "IPY_MODEL_d9c57aebf14a435995ee58c779ca42ad",
            "value": " 250/250 [01:56&lt;00:00,  1.88it/s]"
          }
        },
        "d6673cb9dc44419882dd0598c5d1b228": {
          "model_module": "@jupyter-widgets/base",
          "model_name": "LayoutModel",
          "model_module_version": "1.2.0",
          "state": {
            "_model_module": "@jupyter-widgets/base",
            "_model_module_version": "1.2.0",
            "_model_name": "LayoutModel",
            "_view_count": null,
            "_view_module": "@jupyter-widgets/base",
            "_view_module_version": "1.2.0",
            "_view_name": "LayoutView",
            "align_content": null,
            "align_items": null,
            "align_self": null,
            "border": null,
            "bottom": null,
            "display": null,
            "flex": null,
            "flex_flow": null,
            "grid_area": null,
            "grid_auto_columns": null,
            "grid_auto_flow": null,
            "grid_auto_rows": null,
            "grid_column": null,
            "grid_gap": null,
            "grid_row": null,
            "grid_template_areas": null,
            "grid_template_columns": null,
            "grid_template_rows": null,
            "height": null,
            "justify_content": null,
            "justify_items": null,
            "left": null,
            "margin": null,
            "max_height": null,
            "max_width": null,
            "min_height": null,
            "min_width": null,
            "object_fit": null,
            "object_position": null,
            "order": null,
            "overflow": null,
            "overflow_x": null,
            "overflow_y": null,
            "padding": null,
            "right": null,
            "top": null,
            "visibility": null,
            "width": null
          }
        },
        "e5f6b2bd4fbc45a5894d35780f043432": {
          "model_module": "@jupyter-widgets/base",
          "model_name": "LayoutModel",
          "model_module_version": "1.2.0",
          "state": {
            "_model_module": "@jupyter-widgets/base",
            "_model_module_version": "1.2.0",
            "_model_name": "LayoutModel",
            "_view_count": null,
            "_view_module": "@jupyter-widgets/base",
            "_view_module_version": "1.2.0",
            "_view_name": "LayoutView",
            "align_content": null,
            "align_items": null,
            "align_self": null,
            "border": null,
            "bottom": null,
            "display": null,
            "flex": null,
            "flex_flow": null,
            "grid_area": null,
            "grid_auto_columns": null,
            "grid_auto_flow": null,
            "grid_auto_rows": null,
            "grid_column": null,
            "grid_gap": null,
            "grid_row": null,
            "grid_template_areas": null,
            "grid_template_columns": null,
            "grid_template_rows": null,
            "height": null,
            "justify_content": null,
            "justify_items": null,
            "left": null,
            "margin": null,
            "max_height": null,
            "max_width": null,
            "min_height": null,
            "min_width": null,
            "object_fit": null,
            "object_position": null,
            "order": null,
            "overflow": null,
            "overflow_x": null,
            "overflow_y": null,
            "padding": null,
            "right": null,
            "top": null,
            "visibility": null,
            "width": null
          }
        },
        "70ce5221269d4e6587f14162cbd9ac14": {
          "model_module": "@jupyter-widgets/controls",
          "model_name": "DescriptionStyleModel",
          "model_module_version": "1.5.0",
          "state": {
            "_model_module": "@jupyter-widgets/controls",
            "_model_module_version": "1.5.0",
            "_model_name": "DescriptionStyleModel",
            "_view_count": null,
            "_view_module": "@jupyter-widgets/base",
            "_view_module_version": "1.2.0",
            "_view_name": "StyleView",
            "description_width": ""
          }
        },
        "75c1b6a98d9b49ae8b435bed620f4dee": {
          "model_module": "@jupyter-widgets/base",
          "model_name": "LayoutModel",
          "model_module_version": "1.2.0",
          "state": {
            "_model_module": "@jupyter-widgets/base",
            "_model_module_version": "1.2.0",
            "_model_name": "LayoutModel",
            "_view_count": null,
            "_view_module": "@jupyter-widgets/base",
            "_view_module_version": "1.2.0",
            "_view_name": "LayoutView",
            "align_content": null,
            "align_items": null,
            "align_self": null,
            "border": null,
            "bottom": null,
            "display": null,
            "flex": null,
            "flex_flow": null,
            "grid_area": null,
            "grid_auto_columns": null,
            "grid_auto_flow": null,
            "grid_auto_rows": null,
            "grid_column": null,
            "grid_gap": null,
            "grid_row": null,
            "grid_template_areas": null,
            "grid_template_columns": null,
            "grid_template_rows": null,
            "height": null,
            "justify_content": null,
            "justify_items": null,
            "left": null,
            "margin": null,
            "max_height": null,
            "max_width": null,
            "min_height": null,
            "min_width": null,
            "object_fit": null,
            "object_position": null,
            "order": null,
            "overflow": null,
            "overflow_x": null,
            "overflow_y": null,
            "padding": null,
            "right": null,
            "top": null,
            "visibility": null,
            "width": null
          }
        },
        "1a4a37e39a0244c186ea17c217bf9cef": {
          "model_module": "@jupyter-widgets/controls",
          "model_name": "ProgressStyleModel",
          "model_module_version": "1.5.0",
          "state": {
            "_model_module": "@jupyter-widgets/controls",
            "_model_module_version": "1.5.0",
            "_model_name": "ProgressStyleModel",
            "_view_count": null,
            "_view_module": "@jupyter-widgets/base",
            "_view_module_version": "1.2.0",
            "_view_name": "StyleView",
            "bar_color": null,
            "description_width": ""
          }
        },
        "997685ba2539454cab05394aba9f2a22": {
          "model_module": "@jupyter-widgets/base",
          "model_name": "LayoutModel",
          "model_module_version": "1.2.0",
          "state": {
            "_model_module": "@jupyter-widgets/base",
            "_model_module_version": "1.2.0",
            "_model_name": "LayoutModel",
            "_view_count": null,
            "_view_module": "@jupyter-widgets/base",
            "_view_module_version": "1.2.0",
            "_view_name": "LayoutView",
            "align_content": null,
            "align_items": null,
            "align_self": null,
            "border": null,
            "bottom": null,
            "display": null,
            "flex": null,
            "flex_flow": null,
            "grid_area": null,
            "grid_auto_columns": null,
            "grid_auto_flow": null,
            "grid_auto_rows": null,
            "grid_column": null,
            "grid_gap": null,
            "grid_row": null,
            "grid_template_areas": null,
            "grid_template_columns": null,
            "grid_template_rows": null,
            "height": null,
            "justify_content": null,
            "justify_items": null,
            "left": null,
            "margin": null,
            "max_height": null,
            "max_width": null,
            "min_height": null,
            "min_width": null,
            "object_fit": null,
            "object_position": null,
            "order": null,
            "overflow": null,
            "overflow_x": null,
            "overflow_y": null,
            "padding": null,
            "right": null,
            "top": null,
            "visibility": null,
            "width": null
          }
        },
        "d9c57aebf14a435995ee58c779ca42ad": {
          "model_module": "@jupyter-widgets/controls",
          "model_name": "DescriptionStyleModel",
          "model_module_version": "1.5.0",
          "state": {
            "_model_module": "@jupyter-widgets/controls",
            "_model_module_version": "1.5.0",
            "_model_name": "DescriptionStyleModel",
            "_view_count": null,
            "_view_module": "@jupyter-widgets/base",
            "_view_module_version": "1.2.0",
            "_view_name": "StyleView",
            "description_width": ""
          }
        },
        "cead0185b8c94902afcb36be5d2154a4": {
          "model_module": "@jupyter-widgets/controls",
          "model_name": "HBoxModel",
          "model_module_version": "1.5.0",
          "state": {
            "_dom_classes": [],
            "_model_module": "@jupyter-widgets/controls",
            "_model_module_version": "1.5.0",
            "_model_name": "HBoxModel",
            "_view_count": null,
            "_view_module": "@jupyter-widgets/controls",
            "_view_module_version": "1.5.0",
            "_view_name": "HBoxView",
            "box_style": "",
            "children": [
              "IPY_MODEL_d56d89d0241947219dd4c52fb6b7e556",
              "IPY_MODEL_74320f2417844d2daa73af42c0333ad1",
              "IPY_MODEL_bcbbf8df460b4f23befe9e3360a68c5f"
            ],
            "layout": "IPY_MODEL_689014622059457fa54d51dc6ebcf9c4"
          }
        },
        "d56d89d0241947219dd4c52fb6b7e556": {
          "model_module": "@jupyter-widgets/controls",
          "model_name": "HTMLModel",
          "model_module_version": "1.5.0",
          "state": {
            "_dom_classes": [],
            "_model_module": "@jupyter-widgets/controls",
            "_model_module_version": "1.5.0",
            "_model_name": "HTMLModel",
            "_view_count": null,
            "_view_module": "@jupyter-widgets/controls",
            "_view_module_version": "1.5.0",
            "_view_name": "HTMLView",
            "description": "",
            "description_tooltip": null,
            "layout": "IPY_MODEL_0984c1c773cc4425b6f33794530243b0",
            "placeholder": "​",
            "style": "IPY_MODEL_17dafa0ca705425fab1889149b63fd62",
            "value": "100%"
          }
        },
        "74320f2417844d2daa73af42c0333ad1": {
          "model_module": "@jupyter-widgets/controls",
          "model_name": "FloatProgressModel",
          "model_module_version": "1.5.0",
          "state": {
            "_dom_classes": [],
            "_model_module": "@jupyter-widgets/controls",
            "_model_module_version": "1.5.0",
            "_model_name": "FloatProgressModel",
            "_view_count": null,
            "_view_module": "@jupyter-widgets/controls",
            "_view_module_version": "1.5.0",
            "_view_name": "ProgressView",
            "bar_style": "",
            "description": "",
            "description_tooltip": null,
            "layout": "IPY_MODEL_12bdaf8a59a84fd08c231360531b84ed",
            "max": 250,
            "min": 0,
            "orientation": "horizontal",
            "style": "IPY_MODEL_9c786540d50f4025ac72d109137185ca",
            "value": 250
          }
        },
        "bcbbf8df460b4f23befe9e3360a68c5f": {
          "model_module": "@jupyter-widgets/controls",
          "model_name": "HTMLModel",
          "model_module_version": "1.5.0",
          "state": {
            "_dom_classes": [],
            "_model_module": "@jupyter-widgets/controls",
            "_model_module_version": "1.5.0",
            "_model_name": "HTMLModel",
            "_view_count": null,
            "_view_module": "@jupyter-widgets/controls",
            "_view_module_version": "1.5.0",
            "_view_name": "HTMLView",
            "description": "",
            "description_tooltip": null,
            "layout": "IPY_MODEL_0e17ffda8e36497497ad224b6fdf64a7",
            "placeholder": "​",
            "style": "IPY_MODEL_b503cab7820c4167a4858f93b7bab7a6",
            "value": " 250/250 [01:53&lt;00:00,  2.20it/s]"
          }
        },
        "689014622059457fa54d51dc6ebcf9c4": {
          "model_module": "@jupyter-widgets/base",
          "model_name": "LayoutModel",
          "model_module_version": "1.2.0",
          "state": {
            "_model_module": "@jupyter-widgets/base",
            "_model_module_version": "1.2.0",
            "_model_name": "LayoutModel",
            "_view_count": null,
            "_view_module": "@jupyter-widgets/base",
            "_view_module_version": "1.2.0",
            "_view_name": "LayoutView",
            "align_content": null,
            "align_items": null,
            "align_self": null,
            "border": null,
            "bottom": null,
            "display": null,
            "flex": null,
            "flex_flow": null,
            "grid_area": null,
            "grid_auto_columns": null,
            "grid_auto_flow": null,
            "grid_auto_rows": null,
            "grid_column": null,
            "grid_gap": null,
            "grid_row": null,
            "grid_template_areas": null,
            "grid_template_columns": null,
            "grid_template_rows": null,
            "height": null,
            "justify_content": null,
            "justify_items": null,
            "left": null,
            "margin": null,
            "max_height": null,
            "max_width": null,
            "min_height": null,
            "min_width": null,
            "object_fit": null,
            "object_position": null,
            "order": null,
            "overflow": null,
            "overflow_x": null,
            "overflow_y": null,
            "padding": null,
            "right": null,
            "top": null,
            "visibility": null,
            "width": null
          }
        },
        "0984c1c773cc4425b6f33794530243b0": {
          "model_module": "@jupyter-widgets/base",
          "model_name": "LayoutModel",
          "model_module_version": "1.2.0",
          "state": {
            "_model_module": "@jupyter-widgets/base",
            "_model_module_version": "1.2.0",
            "_model_name": "LayoutModel",
            "_view_count": null,
            "_view_module": "@jupyter-widgets/base",
            "_view_module_version": "1.2.0",
            "_view_name": "LayoutView",
            "align_content": null,
            "align_items": null,
            "align_self": null,
            "border": null,
            "bottom": null,
            "display": null,
            "flex": null,
            "flex_flow": null,
            "grid_area": null,
            "grid_auto_columns": null,
            "grid_auto_flow": null,
            "grid_auto_rows": null,
            "grid_column": null,
            "grid_gap": null,
            "grid_row": null,
            "grid_template_areas": null,
            "grid_template_columns": null,
            "grid_template_rows": null,
            "height": null,
            "justify_content": null,
            "justify_items": null,
            "left": null,
            "margin": null,
            "max_height": null,
            "max_width": null,
            "min_height": null,
            "min_width": null,
            "object_fit": null,
            "object_position": null,
            "order": null,
            "overflow": null,
            "overflow_x": null,
            "overflow_y": null,
            "padding": null,
            "right": null,
            "top": null,
            "visibility": null,
            "width": null
          }
        },
        "17dafa0ca705425fab1889149b63fd62": {
          "model_module": "@jupyter-widgets/controls",
          "model_name": "DescriptionStyleModel",
          "model_module_version": "1.5.0",
          "state": {
            "_model_module": "@jupyter-widgets/controls",
            "_model_module_version": "1.5.0",
            "_model_name": "DescriptionStyleModel",
            "_view_count": null,
            "_view_module": "@jupyter-widgets/base",
            "_view_module_version": "1.2.0",
            "_view_name": "StyleView",
            "description_width": ""
          }
        },
        "12bdaf8a59a84fd08c231360531b84ed": {
          "model_module": "@jupyter-widgets/base",
          "model_name": "LayoutModel",
          "model_module_version": "1.2.0",
          "state": {
            "_model_module": "@jupyter-widgets/base",
            "_model_module_version": "1.2.0",
            "_model_name": "LayoutModel",
            "_view_count": null,
            "_view_module": "@jupyter-widgets/base",
            "_view_module_version": "1.2.0",
            "_view_name": "LayoutView",
            "align_content": null,
            "align_items": null,
            "align_self": null,
            "border": null,
            "bottom": null,
            "display": null,
            "flex": null,
            "flex_flow": null,
            "grid_area": null,
            "grid_auto_columns": null,
            "grid_auto_flow": null,
            "grid_auto_rows": null,
            "grid_column": null,
            "grid_gap": null,
            "grid_row": null,
            "grid_template_areas": null,
            "grid_template_columns": null,
            "grid_template_rows": null,
            "height": null,
            "justify_content": null,
            "justify_items": null,
            "left": null,
            "margin": null,
            "max_height": null,
            "max_width": null,
            "min_height": null,
            "min_width": null,
            "object_fit": null,
            "object_position": null,
            "order": null,
            "overflow": null,
            "overflow_x": null,
            "overflow_y": null,
            "padding": null,
            "right": null,
            "top": null,
            "visibility": null,
            "width": null
          }
        },
        "9c786540d50f4025ac72d109137185ca": {
          "model_module": "@jupyter-widgets/controls",
          "model_name": "ProgressStyleModel",
          "model_module_version": "1.5.0",
          "state": {
            "_model_module": "@jupyter-widgets/controls",
            "_model_module_version": "1.5.0",
            "_model_name": "ProgressStyleModel",
            "_view_count": null,
            "_view_module": "@jupyter-widgets/base",
            "_view_module_version": "1.2.0",
            "_view_name": "StyleView",
            "bar_color": null,
            "description_width": ""
          }
        },
        "0e17ffda8e36497497ad224b6fdf64a7": {
          "model_module": "@jupyter-widgets/base",
          "model_name": "LayoutModel",
          "model_module_version": "1.2.0",
          "state": {
            "_model_module": "@jupyter-widgets/base",
            "_model_module_version": "1.2.0",
            "_model_name": "LayoutModel",
            "_view_count": null,
            "_view_module": "@jupyter-widgets/base",
            "_view_module_version": "1.2.0",
            "_view_name": "LayoutView",
            "align_content": null,
            "align_items": null,
            "align_self": null,
            "border": null,
            "bottom": null,
            "display": null,
            "flex": null,
            "flex_flow": null,
            "grid_area": null,
            "grid_auto_columns": null,
            "grid_auto_flow": null,
            "grid_auto_rows": null,
            "grid_column": null,
            "grid_gap": null,
            "grid_row": null,
            "grid_template_areas": null,
            "grid_template_columns": null,
            "grid_template_rows": null,
            "height": null,
            "justify_content": null,
            "justify_items": null,
            "left": null,
            "margin": null,
            "max_height": null,
            "max_width": null,
            "min_height": null,
            "min_width": null,
            "object_fit": null,
            "object_position": null,
            "order": null,
            "overflow": null,
            "overflow_x": null,
            "overflow_y": null,
            "padding": null,
            "right": null,
            "top": null,
            "visibility": null,
            "width": null
          }
        },
        "b503cab7820c4167a4858f93b7bab7a6": {
          "model_module": "@jupyter-widgets/controls",
          "model_name": "DescriptionStyleModel",
          "model_module_version": "1.5.0",
          "state": {
            "_model_module": "@jupyter-widgets/controls",
            "_model_module_version": "1.5.0",
            "_model_name": "DescriptionStyleModel",
            "_view_count": null,
            "_view_module": "@jupyter-widgets/base",
            "_view_module_version": "1.2.0",
            "_view_name": "StyleView",
            "description_width": ""
          }
        },
        "767952f4481e4eddb9888115c4513cd9": {
          "model_module": "@jupyter-widgets/controls",
          "model_name": "HBoxModel",
          "model_module_version": "1.5.0",
          "state": {
            "_dom_classes": [],
            "_model_module": "@jupyter-widgets/controls",
            "_model_module_version": "1.5.0",
            "_model_name": "HBoxModel",
            "_view_count": null,
            "_view_module": "@jupyter-widgets/controls",
            "_view_module_version": "1.5.0",
            "_view_name": "HBoxView",
            "box_style": "",
            "children": [
              "IPY_MODEL_1c3cb7a94106404bb97cece0af2fe48d",
              "IPY_MODEL_15e4d54f8d8a4facb7507d39f103938c",
              "IPY_MODEL_4c039c3a186549d7ac96d532245ed903"
            ],
            "layout": "IPY_MODEL_6a3f068d2304464d999f3ed5a5c2633b"
          }
        },
        "1c3cb7a94106404bb97cece0af2fe48d": {
          "model_module": "@jupyter-widgets/controls",
          "model_name": "HTMLModel",
          "model_module_version": "1.5.0",
          "state": {
            "_dom_classes": [],
            "_model_module": "@jupyter-widgets/controls",
            "_model_module_version": "1.5.0",
            "_model_name": "HTMLModel",
            "_view_count": null,
            "_view_module": "@jupyter-widgets/controls",
            "_view_module_version": "1.5.0",
            "_view_name": "HTMLView",
            "description": "",
            "description_tooltip": null,
            "layout": "IPY_MODEL_5636ed4a48e940f98d306d9e2816040b",
            "placeholder": "​",
            "style": "IPY_MODEL_9b86029c2c0c487da3da35cf3b8e337a",
            "value": "100%"
          }
        },
        "15e4d54f8d8a4facb7507d39f103938c": {
          "model_module": "@jupyter-widgets/controls",
          "model_name": "FloatProgressModel",
          "model_module_version": "1.5.0",
          "state": {
            "_dom_classes": [],
            "_model_module": "@jupyter-widgets/controls",
            "_model_module_version": "1.5.0",
            "_model_name": "FloatProgressModel",
            "_view_count": null,
            "_view_module": "@jupyter-widgets/controls",
            "_view_module_version": "1.5.0",
            "_view_name": "ProgressView",
            "bar_style": "",
            "description": "",
            "description_tooltip": null,
            "layout": "IPY_MODEL_1c3c68d19d1e4b429bcb125e64c8e4f2",
            "max": 250,
            "min": 0,
            "orientation": "horizontal",
            "style": "IPY_MODEL_01a0c4cca65448f2b01e09ecce922a17",
            "value": 250
          }
        },
        "4c039c3a186549d7ac96d532245ed903": {
          "model_module": "@jupyter-widgets/controls",
          "model_name": "HTMLModel",
          "model_module_version": "1.5.0",
          "state": {
            "_dom_classes": [],
            "_model_module": "@jupyter-widgets/controls",
            "_model_module_version": "1.5.0",
            "_model_name": "HTMLModel",
            "_view_count": null,
            "_view_module": "@jupyter-widgets/controls",
            "_view_module_version": "1.5.0",
            "_view_name": "HTMLView",
            "description": "",
            "description_tooltip": null,
            "layout": "IPY_MODEL_d13d23d47dc04158a27978c705b70a1c",
            "placeholder": "​",
            "style": "IPY_MODEL_6e8bc1cf6f8e452f98f17ca371a3d3b4",
            "value": " 250/250 [01:54&lt;00:00,  2.17it/s]"
          }
        },
        "6a3f068d2304464d999f3ed5a5c2633b": {
          "model_module": "@jupyter-widgets/base",
          "model_name": "LayoutModel",
          "model_module_version": "1.2.0",
          "state": {
            "_model_module": "@jupyter-widgets/base",
            "_model_module_version": "1.2.0",
            "_model_name": "LayoutModel",
            "_view_count": null,
            "_view_module": "@jupyter-widgets/base",
            "_view_module_version": "1.2.0",
            "_view_name": "LayoutView",
            "align_content": null,
            "align_items": null,
            "align_self": null,
            "border": null,
            "bottom": null,
            "display": null,
            "flex": null,
            "flex_flow": null,
            "grid_area": null,
            "grid_auto_columns": null,
            "grid_auto_flow": null,
            "grid_auto_rows": null,
            "grid_column": null,
            "grid_gap": null,
            "grid_row": null,
            "grid_template_areas": null,
            "grid_template_columns": null,
            "grid_template_rows": null,
            "height": null,
            "justify_content": null,
            "justify_items": null,
            "left": null,
            "margin": null,
            "max_height": null,
            "max_width": null,
            "min_height": null,
            "min_width": null,
            "object_fit": null,
            "object_position": null,
            "order": null,
            "overflow": null,
            "overflow_x": null,
            "overflow_y": null,
            "padding": null,
            "right": null,
            "top": null,
            "visibility": null,
            "width": null
          }
        },
        "5636ed4a48e940f98d306d9e2816040b": {
          "model_module": "@jupyter-widgets/base",
          "model_name": "LayoutModel",
          "model_module_version": "1.2.0",
          "state": {
            "_model_module": "@jupyter-widgets/base",
            "_model_module_version": "1.2.0",
            "_model_name": "LayoutModel",
            "_view_count": null,
            "_view_module": "@jupyter-widgets/base",
            "_view_module_version": "1.2.0",
            "_view_name": "LayoutView",
            "align_content": null,
            "align_items": null,
            "align_self": null,
            "border": null,
            "bottom": null,
            "display": null,
            "flex": null,
            "flex_flow": null,
            "grid_area": null,
            "grid_auto_columns": null,
            "grid_auto_flow": null,
            "grid_auto_rows": null,
            "grid_column": null,
            "grid_gap": null,
            "grid_row": null,
            "grid_template_areas": null,
            "grid_template_columns": null,
            "grid_template_rows": null,
            "height": null,
            "justify_content": null,
            "justify_items": null,
            "left": null,
            "margin": null,
            "max_height": null,
            "max_width": null,
            "min_height": null,
            "min_width": null,
            "object_fit": null,
            "object_position": null,
            "order": null,
            "overflow": null,
            "overflow_x": null,
            "overflow_y": null,
            "padding": null,
            "right": null,
            "top": null,
            "visibility": null,
            "width": null
          }
        },
        "9b86029c2c0c487da3da35cf3b8e337a": {
          "model_module": "@jupyter-widgets/controls",
          "model_name": "DescriptionStyleModel",
          "model_module_version": "1.5.0",
          "state": {
            "_model_module": "@jupyter-widgets/controls",
            "_model_module_version": "1.5.0",
            "_model_name": "DescriptionStyleModel",
            "_view_count": null,
            "_view_module": "@jupyter-widgets/base",
            "_view_module_version": "1.2.0",
            "_view_name": "StyleView",
            "description_width": ""
          }
        },
        "1c3c68d19d1e4b429bcb125e64c8e4f2": {
          "model_module": "@jupyter-widgets/base",
          "model_name": "LayoutModel",
          "model_module_version": "1.2.0",
          "state": {
            "_model_module": "@jupyter-widgets/base",
            "_model_module_version": "1.2.0",
            "_model_name": "LayoutModel",
            "_view_count": null,
            "_view_module": "@jupyter-widgets/base",
            "_view_module_version": "1.2.0",
            "_view_name": "LayoutView",
            "align_content": null,
            "align_items": null,
            "align_self": null,
            "border": null,
            "bottom": null,
            "display": null,
            "flex": null,
            "flex_flow": null,
            "grid_area": null,
            "grid_auto_columns": null,
            "grid_auto_flow": null,
            "grid_auto_rows": null,
            "grid_column": null,
            "grid_gap": null,
            "grid_row": null,
            "grid_template_areas": null,
            "grid_template_columns": null,
            "grid_template_rows": null,
            "height": null,
            "justify_content": null,
            "justify_items": null,
            "left": null,
            "margin": null,
            "max_height": null,
            "max_width": null,
            "min_height": null,
            "min_width": null,
            "object_fit": null,
            "object_position": null,
            "order": null,
            "overflow": null,
            "overflow_x": null,
            "overflow_y": null,
            "padding": null,
            "right": null,
            "top": null,
            "visibility": null,
            "width": null
          }
        },
        "01a0c4cca65448f2b01e09ecce922a17": {
          "model_module": "@jupyter-widgets/controls",
          "model_name": "ProgressStyleModel",
          "model_module_version": "1.5.0",
          "state": {
            "_model_module": "@jupyter-widgets/controls",
            "_model_module_version": "1.5.0",
            "_model_name": "ProgressStyleModel",
            "_view_count": null,
            "_view_module": "@jupyter-widgets/base",
            "_view_module_version": "1.2.0",
            "_view_name": "StyleView",
            "bar_color": null,
            "description_width": ""
          }
        },
        "d13d23d47dc04158a27978c705b70a1c": {
          "model_module": "@jupyter-widgets/base",
          "model_name": "LayoutModel",
          "model_module_version": "1.2.0",
          "state": {
            "_model_module": "@jupyter-widgets/base",
            "_model_module_version": "1.2.0",
            "_model_name": "LayoutModel",
            "_view_count": null,
            "_view_module": "@jupyter-widgets/base",
            "_view_module_version": "1.2.0",
            "_view_name": "LayoutView",
            "align_content": null,
            "align_items": null,
            "align_self": null,
            "border": null,
            "bottom": null,
            "display": null,
            "flex": null,
            "flex_flow": null,
            "grid_area": null,
            "grid_auto_columns": null,
            "grid_auto_flow": null,
            "grid_auto_rows": null,
            "grid_column": null,
            "grid_gap": null,
            "grid_row": null,
            "grid_template_areas": null,
            "grid_template_columns": null,
            "grid_template_rows": null,
            "height": null,
            "justify_content": null,
            "justify_items": null,
            "left": null,
            "margin": null,
            "max_height": null,
            "max_width": null,
            "min_height": null,
            "min_width": null,
            "object_fit": null,
            "object_position": null,
            "order": null,
            "overflow": null,
            "overflow_x": null,
            "overflow_y": null,
            "padding": null,
            "right": null,
            "top": null,
            "visibility": null,
            "width": null
          }
        },
        "6e8bc1cf6f8e452f98f17ca371a3d3b4": {
          "model_module": "@jupyter-widgets/controls",
          "model_name": "DescriptionStyleModel",
          "model_module_version": "1.5.0",
          "state": {
            "_model_module": "@jupyter-widgets/controls",
            "_model_module_version": "1.5.0",
            "_model_name": "DescriptionStyleModel",
            "_view_count": null,
            "_view_module": "@jupyter-widgets/base",
            "_view_module_version": "1.2.0",
            "_view_name": "StyleView",
            "description_width": ""
          }
        }
      }
    }
  },
  "nbformat": 4,
  "nbformat_minor": 0
}