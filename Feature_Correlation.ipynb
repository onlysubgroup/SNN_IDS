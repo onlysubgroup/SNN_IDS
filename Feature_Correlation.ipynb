{
  "nbformat": 4,
  "nbformat_minor": 0,
  "metadata": {
    "colab": {
      "name": "Feature_Correlation.ipynb",
      "provenance": [],
      "collapsed_sections": [],
      "authorship_tag": "ABX9TyMOz7iy6ysd8mpF5zinF/N1",
      "include_colab_link": true
    },
    "kernelspec": {
      "name": "python3",
      "display_name": "Python 3"
    },
    "language_info": {
      "name": "python"
    }
  },
  "cells": [
    {
      "cell_type": "markdown",
      "metadata": {
        "id": "view-in-github",
        "colab_type": "text"
      },
      "source": [
        "<a href=\"https://colab.research.google.com/github/onlysubgroup/SNN_IDS/blob/main/Feature_Correlation.ipynb\" target=\"_parent\"><img src=\"https://colab.research.google.com/assets/colab-badge.svg\" alt=\"Open In Colab\"/></a>"
      ]
    },
    {
      "cell_type": "code",
      "execution_count": 1,
      "metadata": {
        "id": "c5WMjD3fNYg7"
      },
      "outputs": [],
      "source": [
        "import pandas as pd\n",
        "#import the dataset with pandas\n",
        "url = \"https://cloudstor.aarnet.edu.au/plus/s/N0JTc8JFNtZtUE4/download?path=%2F&files=NF-UQ-NIDS.csv\"\n",
        "df = pd.read_csv(url)"
      ]
    },
    {
      "cell_type": "code",
      "source": [
        "#TODO: Convert IP-Addr, Attack and Dataset to int64\n",
        "df.info()"
      ],
      "metadata": {
        "colab": {
          "base_uri": "https://localhost:8080/"
        },
        "id": "Q2iNEbjjN0FO",
        "outputId": "0a358908-adc2-473f-b7bd-b4d5ec3a6c5c"
      },
      "execution_count": 11,
      "outputs": [
        {
          "output_type": "stream",
          "name": "stdout",
          "text": [
            "<class 'pandas.core.frame.DataFrame'>\n",
            "RangeIndex: 11994893 entries, 0 to 11994892\n",
            "Data columns (total 15 columns):\n",
            " #   Column                      Dtype  \n",
            "---  ------                      -----  \n",
            " 0   IPV4_SRC_ADDR               string \n",
            " 1   L4_SRC_PORT                 int64  \n",
            " 2   IPV4_DST_ADDR               string \n",
            " 3   L4_DST_PORT                 int64  \n",
            " 4   PROTOCOL                    int64  \n",
            " 5   L7_PROTO                    float64\n",
            " 6   IN_BYTES                    int64  \n",
            " 7   OUT_BYTES                   int64  \n",
            " 8   IN_PKTS                     int64  \n",
            " 9   OUT_PKTS                    int64  \n",
            " 10  TCP_FLAGS                   int64  \n",
            " 11  FLOW_DURATION_MILLISECONDS  int64  \n",
            " 12  Label                       int64  \n",
            " 13  Attack                      string \n",
            " 14  Dataset                     string \n",
            "dtypes: float64(1), int64(10), string(4)\n",
            "memory usage: 1.3 GB\n"
          ]
        }
      ]
    },
    {
      "cell_type": "code",
      "source": [
        "#From https://hands-on.cloud/getting-started-with-the-extra-trees-algorithm-in-python/#h-implementation-of-extra-trees-regressor-using-python\n",
        "## importing the required modules\n",
        "import seaborn as sns\n",
        "import numpy as np\n",
        "import matplotlib.pyplot as plt\n",
        "\n",
        "# setting the size of the figure\n",
        "f, ax = plt.subplots(figsize=(5, 4))\n",
        "\n",
        "# finding the correlation\n",
        "corr = df.corr()\n",
        "\n",
        "# plotting the correlation\n",
        "sns.heatmap(corr, mask=np.zeros_like(corr, dtype=np.bool), cmap=sns.diverging_palette(220, 10, as_cmap=True),\n",
        "            square=True, ax=ax)"
      ],
      "metadata": {
        "colab": {
          "base_uri": "https://localhost:8080/",
          "height": 513
        },
        "id": "gah9npLLN88e",
        "outputId": "a7366498-e89c-4914-cd3f-3e86f7f3e9dd"
      },
      "execution_count": 15,
      "outputs": [
        {
          "output_type": "stream",
          "name": "stderr",
          "text": [
            "/usr/local/lib/python3.7/dist-packages/ipykernel_launcher.py:13: DeprecationWarning: `np.bool` is a deprecated alias for the builtin `bool`. To silence this warning, use `bool` by itself. Doing this will not modify any behavior and is safe. If you specifically wanted the numpy scalar type, use `np.bool_` here.\n",
            "Deprecated in NumPy 1.20; for more details and guidance: https://numpy.org/devdocs/release/1.20.0-notes.html#deprecations\n",
            "  del sys.path[0]\n"
          ]
        },
        {
          "output_type": "execute_result",
          "data": {
            "text/plain": [
              "<matplotlib.axes._subplots.AxesSubplot at 0x7f433008b910>"
            ]
          },
          "metadata": {},
          "execution_count": 15
        },
        {
          "output_type": "display_data",
          "data": {
            "text/plain": [
              "<Figure size 360x288 with 2 Axes>"
            ],
            "image/png": "[encoded data removed]"
          },
          "metadata": {
            "needs_background": "light"
          }
        }
      ]
    },
    {
      "cell_type": "markdown",
      "source": [
        "# Conclusion\n",
        "postive Correlation \n",
        "*   IN_BYTES and IN_PKTS have the strongest correlation(around 0.6).\n",
        "*   FLOW_DURATION_MILLISECONDS and L4_SRC_PORT have some correlation(around 0.4)\n",
        "*   OUT_BYTES and OUT_PKTS: ~0.3\n",
        "\n",
        "negative Correlation:\n",
        "*   FLOW_DURATION_MILLISECONDS and L4_DST_PORT have some correlation(around -0.35)\n",
        "*   FLOW_DURATION_MILLISECONDS and Label have some correlation(around -0.3)\n",
        "\n",
        "\n"
      ],
      "metadata": {
        "id": "5LrZD3g_SZ8J"
      }
    }
  ]
}