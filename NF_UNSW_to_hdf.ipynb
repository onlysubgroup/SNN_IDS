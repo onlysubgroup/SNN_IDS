{
  "cells": [
    {
      "cell_type": "markdown",
      "metadata": {
        "id": "view-in-github",
        "colab_type": "text"
      },
      "source": [
        "<a href=\"https://colab.research.google.com/github/onlysubgroup/SNN_IDS/blob/main/NF_UNSW_to_hdf.ipynb\" target=\"_parent\"><img src=\"https://colab.research.google.com/assets/colab-badge.svg\" alt=\"Open In Colab\"/></a>"
      ]
    },
    {
      "cell_type": "markdown",
      "metadata": {
        "id": "EoJ2zN3VKxxd"
      },
      "source": [
        "Ideas:\n",
        "- Sort by port/services\n",
        "- Make time/byte-variant by looking at lenght of connection/number of sent bytes\n"
      ]
    },
    {
      "cell_type": "code",
      "source": [
        "from google.colab import drive\n",
        "drive.mount('/content/gdrive')"
      ],
      "metadata": {
        "colab": {
          "base_uri": "https://localhost:8080/"
        },
        "id": "PhIhQEtKY_JG",
        "outputId": "7374edeb-eab9-469f-cce5-e1b9a32fa2b3"
      },
      "execution_count": null,
      "outputs": [
        {
          "output_type": "stream",
          "name": "stdout",
          "text": [
            "Mounted at /content/gdrive\n"
          ]
        }
      ]
    },
    {
      "cell_type": "code",
      "source": [
        "import pandas as pd"
      ],
      "metadata": {
        "id": "RL51UXlIoXhQ"
      },
      "execution_count": null,
      "outputs": []
    },
    {
      "cell_type": "code",
      "execution_count": null,
      "metadata": {
        "id": "294Y63XmGnTH"
      },
      "outputs": [],
      "source": [
        "url = \"https://cloudstor.aarnet.edu.au/plus/s/N0JTc8JFNtZtUE4/download?path=%2F&files=NF-UNSW-NB15.csv\"\n",
        "df = pd.read_csv(url)#, names=header_names)"
      ]
    },
    {
      "cell_type": "code",
      "execution_count": null,
      "metadata": {
        "id": "xbXFz3RjV-a5"
      },
      "outputs": [],
      "source": [
        "df_ip = df.drop(['IPV4_SRC_ADDR', 'IPV4_DST_ADDR', 'Attack'], axis=1)"
      ]
    },
    {
      "cell_type": "code",
      "execution_count": null,
      "metadata": {
        "colab": {
          "base_uri": "https://localhost:8080/",
          "height": 487
        },
        "id": "jzwQjotTXkff",
        "outputId": "8d6e33fd-636a-4dbe-e4fe-8fed915b44a2"
      },
      "outputs": [
        {
          "output_type": "execute_result",
          "data": {
            "text/plain": [
              "         L4_SRC_PORT  L4_DST_PORT  PROTOCOL  L7_PROTO  IN_BYTES  OUT_BYTES  \\\n",
              "0              62073        56082         6       0.0      9672        416   \n",
              "1              32284         1526         6       0.0      1776        104   \n",
              "2                 21        21971         6       1.0      1842       1236   \n",
              "3              23800        46893         6       0.0       528       8824   \n",
              "4              63062           21         6       1.0      1786       2340   \n",
              "...              ...          ...       ...       ...       ...        ...   \n",
              "1623113         1640           53        17       0.0       130        162   \n",
              "1623114         3610           21         6       1.0      2044       2404   \n",
              "1623115         4667        40725         6       0.0       320       1918   \n",
              "1623116         5641        56243         6       0.0       528       8824   \n",
              "1623117         1245        55094         6       0.0       216        112   \n",
              "\n",
              "         IN_PKTS  OUT_PKTS  TCP_FLAGS  FLOW_DURATION_MILLISECONDS  Label  \n",
              "0             11         8         25                          15      0  \n",
              "1              6         2         25                           0      0  \n",
              "2             26        22         25                        1111      0  \n",
              "3             10        12         27                         124      0  \n",
              "4             32        34         25                        1459      0  \n",
              "...          ...       ...        ...                         ...    ...  \n",
              "1623113        2         2          0                           0      0  \n",
              "1623114       36        34         26                           0      0  \n",
              "1623115        6         8         27                           0      0  \n",
              "1623116       10        12         27                           0      0  \n",
              "1623117        4         2         18                           0      0  \n",
              "\n",
              "[1623118 rows x 11 columns]"
            ],
            "text/html": [
              "\n",
              "  <div id=\"df-30727c02-1930-4d34-88a0-98ddd99cb43e\">\n",
              "    <div class=\"colab-df-container\">\n",
              "      <div>\n",
              "<style scoped>\n",
              "    .dataframe tbody tr th:only-of-type {\n",
              "        vertical-align: middle;\n",
              "    }\n",
              "\n",
              "    .dataframe tbody tr th {\n",
              "        vertical-align: top;\n",
              "    }\n",
              "\n",
              "    .dataframe thead th {\n",
              "        text-align: right;\n",
              "    }\n",
              "</style>\n",
              "<table border=\"1\" class=\"dataframe\">\n",
              "  <thead>\n",
              "    <tr style=\"text-align: right;\">\n",
              "      <th></th>\n",
              "      <th>L4_SRC_PORT</th>\n",
              "      <th>L4_DST_PORT</th>\n",
              "      <th>PROTOCOL</th>\n",
              "      <th>L7_PROTO</th>\n",
              "      <th>IN_BYTES</th>\n",
              "      <th>OUT_BYTES</th>\n",
              "      <th>IN_PKTS</th>\n",
              "      <th>OUT_PKTS</th>\n",
              "      <th>TCP_FLAGS</th>\n",
              "      <th>FLOW_DURATION_MILLISECONDS</th>\n",
              "      <th>Label</th>\n",
              "    </tr>\n",
              "  </thead>\n",
              "  <tbody>\n",
              "    <tr>\n",
              "      <th>0</th>\n",
              "      <td>62073</td>\n",
              "      <td>56082</td>\n",
              "      <td>6</td>\n",
              "      <td>0.0</td>\n",
              "      <td>9672</td>\n",
              "      <td>416</td>\n",
              "      <td>11</td>\n",
              "      <td>8</td>\n",
              "      <td>25</td>\n",
              "      <td>15</td>\n",
              "      <td>0</td>\n",
              "    </tr>\n",
              "    <tr>\n",
              "      <th>1</th>\n",
              "      <td>32284</td>\n",
              "      <td>1526</td>\n",
              "      <td>6</td>\n",
              "      <td>0.0</td>\n",
              "      <td>1776</td>\n",
              "      <td>104</td>\n",
              "      <td>6</td>\n",
              "      <td>2</td>\n",
              "      <td>25</td>\n",
              "      <td>0</td>\n",
              "      <td>0</td>\n",
              "    </tr>\n",
              "    <tr>\n",
              "      <th>2</th>\n",
              "      <td>21</td>\n",
              "      <td>21971</td>\n",
              "      <td>6</td>\n",
              "      <td>1.0</td>\n",
              "      <td>1842</td>\n",
              "      <td>1236</td>\n",
              "      <td>26</td>\n",
              "      <td>22</td>\n",
              "      <td>25</td>\n",
              "      <td>1111</td>\n",
              "      <td>0</td>\n",
              "    </tr>\n",
              "    <tr>\n",
              "      <th>3</th>\n",
              "      <td>23800</td>\n",
              "      <td>46893</td>\n",
              "      <td>6</td>\n",
              "      <td>0.0</td>\n",
              "      <td>528</td>\n",
              "      <td>8824</td>\n",
              "      <td>10</td>\n",
              "      <td>12</td>\n",
              "      <td>27</td>\n",
              "      <td>124</td>\n",
              "      <td>0</td>\n",
              "    </tr>\n",
              "    <tr>\n",
              "      <th>4</th>\n",
              "      <td>63062</td>\n",
              "      <td>21</td>\n",
              "      <td>6</td>\n",
              "      <td>1.0</td>\n",
              "      <td>1786</td>\n",
              "      <td>2340</td>\n",
              "      <td>32</td>\n",
              "      <td>34</td>\n",
              "      <td>25</td>\n",
              "      <td>1459</td>\n",
              "      <td>0</td>\n",
              "    </tr>\n",
              "    <tr>\n",
              "      <th>...</th>\n",
              "      <td>...</td>\n",
              "      <td>...</td>\n",
              "      <td>...</td>\n",
              "      <td>...</td>\n",
              "      <td>...</td>\n",
              "      <td>...</td>\n",
              "      <td>...</td>\n",
              "      <td>...</td>\n",
              "      <td>...</td>\n",
              "      <td>...</td>\n",
              "      <td>...</td>\n",
              "    </tr>\n",
              "    <tr>\n",
              "      <th>1623113</th>\n",
              "      <td>1640</td>\n",
              "      <td>53</td>\n",
              "      <td>17</td>\n",
              "      <td>0.0</td>\n",
              "      <td>130</td>\n",
              "      <td>162</td>\n",
              "      <td>2</td>\n",
              "      <td>2</td>\n",
              "      <td>0</td>\n",
              "      <td>0</td>\n",
              "      <td>0</td>\n",
              "    </tr>\n",
              "    <tr>\n",
              "      <th>1623114</th>\n",
              "      <td>3610</td>\n",
              "      <td>21</td>\n",
              "      <td>6</td>\n",
              "      <td>1.0</td>\n",
              "      <td>2044</td>\n",
              "      <td>2404</td>\n",
              "      <td>36</td>\n",
              "      <td>34</td>\n",
              "      <td>26</td>\n",
              "      <td>0</td>\n",
              "      <td>0</td>\n",
              "    </tr>\n",
              "    <tr>\n",
              "      <th>1623115</th>\n",
              "      <td>4667</td>\n",
              "      <td>40725</td>\n",
              "      <td>6</td>\n",
              "      <td>0.0</td>\n",
              "      <td>320</td>\n",
              "      <td>1918</td>\n",
              "      <td>6</td>\n",
              "      <td>8</td>\n",
              "      <td>27</td>\n",
              "      <td>0</td>\n",
              "      <td>0</td>\n",
              "    </tr>\n",
              "    <tr>\n",
              "      <th>1623116</th>\n",
              "      <td>5641</td>\n",
              "      <td>56243</td>\n",
              "      <td>6</td>\n",
              "      <td>0.0</td>\n",
              "      <td>528</td>\n",
              "      <td>8824</td>\n",
              "      <td>10</td>\n",
              "      <td>12</td>\n",
              "      <td>27</td>\n",
              "      <td>0</td>\n",
              "      <td>0</td>\n",
              "    </tr>\n",
              "    <tr>\n",
              "      <th>1623117</th>\n",
              "      <td>1245</td>\n",
              "      <td>55094</td>\n",
              "      <td>6</td>\n",
              "      <td>0.0</td>\n",
              "      <td>216</td>\n",
              "      <td>112</td>\n",
              "      <td>4</td>\n",
              "      <td>2</td>\n",
              "      <td>18</td>\n",
              "      <td>0</td>\n",
              "      <td>0</td>\n",
              "    </tr>\n",
              "  </tbody>\n",
              "</table>\n",
              "<p>1623118 rows × 11 columns</p>\n",
              "</div>\n",
              "      <button class=\"colab-df-convert\" onclick=\"convertToInteractive('df-30727c02-1930-4d34-88a0-98ddd99cb43e')\"\n",
              "              title=\"Convert this dataframe to an interactive table.\"\n",
              "              style=\"display:none;\">\n",
              "        \n",
              "  <svg xmlns=\"http://www.w3.org/2000/svg\" height=\"24px\"viewBox=\"0 0 24 24\"\n",
              "       width=\"24px\">\n",
              "    <path d=\"M0 0h24v24H0V0z\" fill=\"none\"/>\n",
              "    <path d=\"M18.56 5.44l.94 2.06.94-2.06 2.06-.94-2.06-.94-.94-2.06-.94 2.06-2.06.94zm-11 1L8.5 8.5l.94-2.06 2.06-.94-2.06-.94L8.5 2.5l-.94 2.06-2.06.94zm10 10l.94 2.06.94-2.06 2.06-.94-2.06-.94-.94-2.06-.94 2.06-2.06.94z\"/><path d=\"M17.41 7.96l-1.37-1.37c-.4-.4-.92-.59-1.43-.59-.52 0-1.04.2-1.43.59L10.3 9.45l-7.72 7.72c-.78.78-.78 2.05 0 2.83L4 21.41c.39.39.9.59 1.41.59.51 0 1.02-.2 1.41-.59l7.78-7.78 2.81-2.81c.8-.78.8-2.07 0-2.86zM5.41 20L4 18.59l7.72-7.72 1.47 1.35L5.41 20z\"/>\n",
              "  </svg>\n",
              "      </button>\n",
              "      \n",
              "  <style>\n",
              "    .colab-df-container {\n",
              "      display:flex;\n",
              "      flex-wrap:wrap;\n",
              "      gap: 12px;\n",
              "    }\n",
              "\n",
              "    .colab-df-convert {\n",
              "      background-color: #E8F0FE;\n",
              "      border: none;\n",
              "      border-radius: 50%;\n",
              "      cursor: pointer;\n",
              "      display: none;\n",
              "      fill: #1967D2;\n",
              "      height: 32px;\n",
              "      padding: 0 0 0 0;\n",
              "      width: 32px;\n",
              "    }\n",
              "\n",
              "    .colab-df-convert:hover {\n",
              "      background-color: #E2EBFA;\n",
              "      box-shadow: 0px 1px 2px rgba(60, 64, 67, 0.3), 0px 1px 3px 1px rgba(60, 64, 67, 0.15);\n",
              "      fill: #174EA6;\n",
              "    }\n",
              "\n",
              "    [theme=dark] .colab-df-convert {\n",
              "      background-color: #3B4455;\n",
              "      fill: #D2E3FC;\n",
              "    }\n",
              "\n",
              "    [theme=dark] .colab-df-convert:hover {\n",
              "      background-color: #434B5C;\n",
              "      box-shadow: 0px 1px 3px 1px rgba(0, 0, 0, 0.15);\n",
              "      filter: drop-shadow(0px 1px 2px rgba(0, 0, 0, 0.3));\n",
              "      fill: #FFFFFF;\n",
              "    }\n",
              "  </style>\n",
              "\n",
              "      <script>\n",
              "        const buttonEl =\n",
              "          document.querySelector('#df-30727c02-1930-4d34-88a0-98ddd99cb43e button.colab-df-convert');\n",
              "        buttonEl.style.display =\n",
              "          google.colab.kernel.accessAllowed ? 'block' : 'none';\n",
              "\n",
              "        async function convertToInteractive(key) {\n",
              "          const element = document.querySelector('#df-30727c02-1930-4d34-88a0-98ddd99cb43e');\n",
              "          const dataTable =\n",
              "            await google.colab.kernel.invokeFunction('convertToInteractive',\n",
              "                                                     [key], {});\n",
              "          if (!dataTable) return;\n",
              "\n",
              "          const docLinkHtml = 'Like what you see? Visit the ' +\n",
              "            '<a target=\"_blank\" href=https://colab.research.google.com/notebooks/data_table.ipynb>data table notebook</a>'\n",
              "            + ' to learn more about interactive tables.';\n",
              "          element.innerHTML = '';\n",
              "          dataTable['output_type'] = 'display_data';\n",
              "          await google.colab.output.renderOutput(dataTable, element);\n",
              "          const docLink = document.createElement('div');\n",
              "          docLink.innerHTML = docLinkHtml;\n",
              "          element.appendChild(docLink);\n",
              "        }\n",
              "      </script>\n",
              "    </div>\n",
              "  </div>\n",
              "  "
            ]
          },
          "metadata": {},
          "execution_count": 5
        }
      ],
      "source": [
        "df_ip"
      ]
    },
    {
      "cell_type": "code",
      "source": [
        "df_1000 = df_ip.drop(df.index[1000:])\n",
        "df_10000 = df_ip.drop(df.index[10000:])\n",
        "df_222 = df_ip.drop(df.index[:1000])\n",
        "df_222 = df_ip.drop(df.index[1222:])\n",
        "df_2222 = df_ip.drop(df.index[:10000])\n",
        "df_2222 = df_2222.drop(df.index[12222:])\n",
        "train_split = int(len(df_ip)*2/3) \n",
        "df_train = df_ip.drop(df.index[train_split:])\n",
        "df_test = df_ip.drop(df.index[:train_split])"
      ],
      "metadata": {
        "id": "Pcig1ZlcEnCk"
      },
      "execution_count": null,
      "outputs": []
    },
    {
      "cell_type": "code",
      "source": [
        "#df_train.shape\n",
        "#df_10000.shape\n",
        "df_2222.shape\n",
        "#df_train.head\n",
        "#df_test.head\n"
      ],
      "metadata": {
        "colab": {
          "base_uri": "https://localhost:8080/"
        },
        "id": "oHNvLRBMFPj5",
        "outputId": "4b09187a-2462-4a04-b55e-f6fd2ade18e1"
      },
      "execution_count": null,
      "outputs": [
        {
          "output_type": "execute_result",
          "data": {
            "text/plain": [
              "(2222, 11)"
            ]
          },
          "metadata": {},
          "execution_count": 7
        }
      ]
    },
    {
      "cell_type": "code",
      "execution_count": null,
      "metadata": {
        "id": "3T_CZiHi6aXV"
      },
      "outputs": [],
      "source": [
        "df_1000.to_hdf('gdrive/MyDrive/NF-UNSW_1000.h5', key='df_1000', mode='w') \n",
        "df_10000.to_hdf('gdrive/MyDrive/NF-UNSW_10000.h5', key='df_10000', mode='w') \n",
        "df_222.to_hdf('gdrive/MyDrive/NF-UNSW_222.h5', key='df_222', mode='w')\n",
        "df_2222.to_hdf('gdrive/MyDrive/NF-UNSW_2222.h5', key='df_2222', mode='w') \n",
        "df_train.to_hdf('gdrive/MyDrive/NF-UNSW_train.h5', key='df_train', mode='w') \n",
        "df_test.to_hdf('gdrive/MyDrive/NF-UNSW_test.h5', key='df_test', mode='w') \n"
      ]
    },
    {
      "cell_type": "markdown",
      "metadata": {
        "id": "5N8JZOA1LFhx"
      },
      "source": [
        "Preprossecing connection-time and number send bytes"
      ]
    },
    {
      "cell_type": "markdown",
      "metadata": {
        "id": "Wj_QJjjeLTm6"
      },
      "source": [
        "Split train/test (how much?)"
      ]
    },
    {
      "cell_type": "markdown",
      "metadata": {
        "id": "PuxIffBULNZF"
      },
      "source": [
        "Feed norse model"
      ]
    },
    {
      "cell_type": "markdown",
      "metadata": {
        "id": "qmBgO15lLRSm"
      },
      "source": [
        "Evaluation"
      ]
    },
    {
      "cell_type": "code",
      "execution_count": null,
      "metadata": {
        "id": "zQ8k8s9SgFtZ"
      },
      "outputs": [],
      "source": [
        "#df.groupby([\"L4_SRC_PORT\", \"L4_DST_PORT\"]).size()\n"
      ]
    },
    {
      "cell_type": "code",
      "execution_count": null,
      "metadata": {
        "id": "SlMJW5h7YrPA"
      },
      "outputs": [],
      "source": [
        "#addr_types = df[['IPV4_SRC_ADDR', 'IPV4_DST_ADDR']].value_counts()\n",
        "#pd.set_option('display.max_rows', None)\n",
        "#pd.set_option('display.max_columns', None)\n",
        "#pd.set_option('display.width', None)\n",
        "#pd.set_option('display.max_colwidth', -1)\n",
        "#df.groupby([\"IPV4_SRC_ADDR\", \"IPV4_DST_ADDR\"]).size()\n"
      ]
    }
  ],
  "metadata": {
    "colab": {
      "collapsed_sections": [],
      "name": "NF-UNSW_to_hdf.ipynb",
      "provenance": [],
      "mount_file_id": "1KHxPQ21aRPAFfXT7ZgXxP9U_AsbCpDgi",
      "authorship_tag": "ABX9TyPTpknt8apMBsHm1Iqmgp0e",
      "include_colab_link": true
    },
    "kernelspec": {
      "display_name": "Python 3",
      "name": "python3"
    },
    "language_info": {
      "name": "python"
    }
  },
  "nbformat": 4,
  "nbformat_minor": 0
}